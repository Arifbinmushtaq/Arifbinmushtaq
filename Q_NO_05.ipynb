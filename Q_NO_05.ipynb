{
  "nbformat": 4,
  "nbformat_minor": 0,
  "metadata": {
    "colab": {
      "name": "Q.NO: 05.ipynb",
      "provenance": [],
      "authorship_tag": "ABX9TyP1D4rmhVNtAwrXnV7UQbW6",
      "include_colab_link": true
    },
    "kernelspec": {
      "name": "python3",
      "display_name": "Python 3"
    },
    "language_info": {
      "name": "python"
    }
  },
  "cells": [
    {
      "cell_type": "markdown",
      "metadata": {
        "id": "view-in-github",
        "colab_type": "text"
      },
      "source": [
        "<a href=\"https://colab.research.google.com/github/Arifbinmushtaq/Arifbinmushtaq/blob/main/Q_NO_05.ipynb\" target=\"_parent\"><img src=\"https://colab.research.google.com/assets/colab-badge.svg\" alt=\"Open In Colab\"/></a>"
      ]
    },
    {
      "cell_type": "code",
      "execution_count": 1,
      "metadata": {
        "colab": {
          "base_uri": "https://localhost:8080/"
        },
        "id": "_ZTPerUpDYJl",
        "outputId": "f37b0f38-12a1-41d6-f760-5193f2a3e15c"
      },
      "outputs": [
        {
          "output_type": "stream",
          "name": "stdout",
          "text": [
            "Enter a leap year2018\n",
            "2018 its a leap year\n"
          ]
        }
      ],
      "source": [
        "a = int(input(\"Enter a leap year\"))\n",
        "if ( a%400 == 0):\n",
        "  print(a,\"its a leap year\")\n",
        "elif(a%100==0):\n",
        "    print(a,\"its a leap year\")\n",
        "else:\n",
        "  print(a,\"its a leap year\")"
      ]
    },
    {
      "cell_type": "code",
      "source": [
        ""
      ],
      "metadata": {
        "id": "VCAPGsrkEigw"
      },
      "execution_count": null,
      "outputs": []
    }
  ]
}