{
  "nbformat": 4,
  "nbformat_minor": 0,
  "metadata": {
    "colab": {
      "name": "QUESTION N0.02 ASSIGNMENT TUPLE .ipynb",
      "provenance": [],
      "collapsed_sections": [],
      "authorship_tag": "ABX9TyMQMt46RVUYmfu5ND6ZZ+po",
      "include_colab_link": true
    },
    "kernelspec": {
      "name": "python3",
      "display_name": "Python 3"
    },
    "language_info": {
      "name": "python"
    }
  },
  "cells": [
    {
      "cell_type": "markdown",
      "metadata": {
        "id": "view-in-github",
        "colab_type": "text"
      },
      "source": [
        "<a href=\"https://colab.research.google.com/github/Arifbinmushtaq/Arifbinmushtaq/blob/main/QUESTION_N0_02_ASSIGNMENT_TUPLE_.ipynb\" target=\"_parent\"><img src=\"https://colab.research.google.com/assets/colab-badge.svg\" alt=\"Open In Colab\"/></a>"
      ]
    },
    {
      "cell_type": "code",
      "execution_count": 2,
      "metadata": {
        "colab": {
          "base_uri": "https://localhost:8080/"
        },
        "id": "C_TmHIsVpVyD",
        "outputId": "39a53781-d13e-4caf-f197-d96039d544e3"
      },
      "outputs": [
        {
          "output_type": "stream",
          "name": "stdout",
          "text": [
            "(1, 2, 3, 4, 5)\n",
            "(6, 7, 8, 9, 10)\n"
          ]
        }
      ],
      "source": [
        "#QUESTION NIUMBER 02 \n",
        "#part 1\n",
        "t1 = (1,2,3,4,5,6,7,8,9,10)\n",
        "t1a = t1[:5]\n",
        "t1b = t1[5:]\n",
        "print(t1a)\n",
        "print(t1b)\n"
      ]
    },
    {
      "cell_type": "code",
      "source": [
        "#part 2\n",
        "t1 = (1,2,3,4,5,6,7,8,9,10)\n",
        "n = list (t1)\n",
        "list1 = list()\n",
        "for i in n:\n",
        "    if i in n:\n",
        "         if i%2==0:\n",
        "             list1.append(i)\n",
        "    p = tuple(list1) \n",
        "print('tuple:',p) \n",
        "print()       "
      ],
      "metadata": {
        "colab": {
          "base_uri": "https://localhost:8080/"
        },
        "id": "dDB_tuy5px3S",
        "outputId": "111e629d-b893-4806-aa83-1a2057651527"
      },
      "execution_count": 4,
      "outputs": [
        {
          "output_type": "stream",
          "name": "stdout",
          "text": [
            "tuple: (2, 4, 6, 8, 10)\n",
            "\n"
          ]
        }
      ]
    },
    {
      "cell_type": "code",
      "source": [
        "#part 3\n",
        "t1 = (1,2,3,4,5,6,7,8,9,10)\n",
        "t2 = (11,13,15)\n",
        "a = list(t1)\n",
        "b = list(t2)\n",
        "c=(a+b)\n",
        "print(c)"
      ],
      "metadata": {
        "colab": {
          "base_uri": "https://localhost:8080/"
        },
        "id": "7TokUyH3qhQZ",
        "outputId": "b74e300e-dfd8-4b4c-f59b-7038f6bc809d"
      },
      "execution_count": 5,
      "outputs": [
        {
          "output_type": "stream",
          "name": "stdout",
          "text": [
            "[1, 2, 3, 4, 5, 6, 7, 8, 9, 10, 11, 13, 15]\n"
          ]
        }
      ]
    },
    {
      "cell_type": "code",
      "source": [
        "#part 4\n",
        "t1 = (1,2,3,4,5,6,7,8,9,10)\n",
        "max(t1)\n",
        "min(t2)\n",
        "print(\"max no.is\",max(t1))\n",
        "print(\"min no.is\",min(t1))"
      ],
      "metadata": {
        "colab": {
          "base_uri": "https://localhost:8080/"
        },
        "id": "TgSk1cxUq4zM",
        "outputId": "5162cdc7-464d-4738-d1a1-1e043bb55a30"
      },
      "execution_count": 6,
      "outputs": [
        {
          "output_type": "stream",
          "name": "stdout",
          "text": [
            "max no.is 10\n",
            "min no.is 1\n"
          ]
        }
      ]
    },
    {
      "cell_type": "code",
      "source": [
        ""
      ],
      "metadata": {
        "id": "SSHgzdADrQr1"
      },
      "execution_count": null,
      "outputs": []
    }
  ]
}