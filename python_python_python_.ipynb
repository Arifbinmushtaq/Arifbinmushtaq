{
  "nbformat": 4,
  "nbformat_minor": 0,
  "metadata": {
    "colab": {
      "name": "python python python .ipynb",
      "provenance": [],
      "collapsed_sections": [],
      "authorship_tag": "ABX9TyOJSFJa/LfWaFGvN55H4GUx",
      "include_colab_link": true
    },
    "kernelspec": {
      "name": "python3",
      "display_name": "Python 3"
    },
    "language_info": {
      "name": "python"
    }
  },
  "cells": [
    {
      "cell_type": "markdown",
      "metadata": {
        "id": "view-in-github",
        "colab_type": "text"
      },
      "source": [
        "<a href=\"https://colab.research.google.com/github/Arifbinmushtaq/Arifbinmushtaq/blob/main/python_python_python_.ipynb\" target=\"_parent\"><img src=\"https://colab.research.google.com/assets/colab-badge.svg\" alt=\"Open In Colab\"/></a>"
      ]
    },
    {
      "cell_type": "code",
      "execution_count": null,
      "metadata": {
        "id": "QGrEJd9j28In"
      },
      "outputs": [],
      "source": [
        "# Q:my electricity bills for the last three months have been $23,$32 and $64.\n",
        "# what is the average monthly electricity bill over the three month period/ write\n",
        "# an expression to calculate the mean and use print() to veiw the result .\n"
      ]
    },
    {
      "cell_type": "code",
      "source": [
        "a= 32 \n",
        "b= 32\n",
        "c= 64\n",
        "d = a+b+c / 3\n",
        "print(d)"
      ],
      "metadata": {
        "colab": {
          "base_uri": "https://localhost:8080/"
        },
        "id": "SG2O_HhA3bOc",
        "outputId": "56aec87c-6b5e-43ec-b8cc-16d37268868c"
      },
      "execution_count": null,
      "outputs": [
        {
          "output_type": "stream",
          "name": "stdout",
          "text": [
            "85.33333333333333\n"
          ]
        }
      ]
    },
    {
      "cell_type": "code",
      "source": [
        "carrots = 24\n",
        "rabbits = 8\n",
        "crs_per_rab = carrots/rabbits\n",
        "print(crs_per_rab)\n"
      ],
      "metadata": {
        "colab": {
          "base_uri": "https://localhost:8080/"
        },
        "id": "G1nBNW0w40x2",
        "outputId": "5cfde416-84bd-4d5a-92dd-ab9fb7b81eaf"
      },
      "execution_count": null,
      "outputs": [
        {
          "output_type": "stream",
          "name": "stdout",
          "text": [
            "3.0\n"
          ]
        }
      ]
    },
    {
      "cell_type": "code",
      "source": [
        "carrots = 24\n",
        "rabbits = 12\n",
        "crs_per_rab = carrots/rabbits\n",
        "print(crs_per_rab)"
      ],
      "metadata": {
        "colab": {
          "base_uri": "https://localhost:8080/"
        },
        "id": "fM2gbGqQDauF",
        "outputId": "22718887-0387-4b69-f361-6478fbd8eb35"
      },
      "execution_count": null,
      "outputs": [
        {
          "output_type": "stream",
          "name": "stdout",
          "text": [
            "2.0\n"
          ]
        }
      ]
    },
    {
      "cell_type": "code",
      "source": [
        "reservior_volume = 4.445e8\n",
        "rainfall = 5e6\n",
        "rainfall *= .9\n",
        "reservior_volume += rainfall \n",
        "reservior_volume *= 1.05\n",
        "reservior_volume *= 0.95\n",
        "reservior_volume -= 2.5e5\n",
        "print(reservior_volume)"
      ],
      "metadata": {
        "colab": {
          "base_uri": "https://localhost:8080/"
        },
        "id": "wlpnAdRODkaU",
        "outputId": "a00b8a47-05fb-48e0-8d38-a5814b387a4b"
      },
      "execution_count": null,
      "outputs": [
        {
          "output_type": "stream",
          "name": "stdout",
          "text": [
            "447627500.0\n"
          ]
        }
      ]
    },
    {
      "cell_type": "code",
      "source": [
        "a=3\n",
        "b=4\n",
        "print(a/b)\n",
        "type(a/b)"
      ],
      "metadata": {
        "colab": {
          "base_uri": "https://localhost:8080/"
        },
        "id": "wGXJP9vITmxF",
        "outputId": "98247f51-760c-43c3-d726-71a765551302"
      },
      "execution_count": null,
      "outputs": [
        {
          "output_type": "stream",
          "name": "stdout",
          "text": [
            "0.75\n"
          ]
        },
        {
          "output_type": "execute_result",
          "data": {
            "text/plain": [
              "float"
            ]
          },
          "metadata": {},
          "execution_count": 25
        }
      ]
    },
    {
      "cell_type": "code",
      "source": [
        "x = 43 > 41\n",
        "print(x)"
      ],
      "metadata": {
        "colab": {
          "base_uri": "https://localhost:8080/"
        },
        "id": "ulM2lIw0WwQo",
        "outputId": "01077555-ebf0-4e49-e097-94fd9c5a6277"
      },
      "execution_count": null,
      "outputs": [
        {
          "output_type": "stream",
          "name": "stdout",
          "text": [
            "True\n"
          ]
        }
      ]
    },
    {
      "cell_type": "code",
      "source": [
        "age = 14\n",
        "is_teen = age > 12 and age < 20\n",
        "print(is_teen)"
      ],
      "metadata": {
        "colab": {
          "base_uri": "https://localhost:8080/"
        },
        "id": "bSCK14bxW15b",
        "outputId": "5d2f6286-8333-4356-9aca-54673ea2b074"
      },
      "execution_count": null,
      "outputs": [
        {
          "output_type": "stream",
          "name": "stdout",
          "text": [
            "True\n"
          ]
        }
      ]
    },
    {
      "cell_type": "code",
      "source": [
        "sf_population,sf_area = 864816, 231.89\n",
        "rio_population, rio_area = 6453682, 486.5\n",
        "san_franciso_pop_density = sf_population/sf_area\n",
        "rio_de_janeiro_pop_density = rio_population/rio_area\n",
        "print(san_franciso_pop_density < rio_de_janeiro_pop_density)"
      ],
      "metadata": {
        "colab": {
          "base_uri": "https://localhost:8080/"
        },
        "id": "vdPuXgDjXHb8",
        "outputId": "a2fecb1b-de56-496c-c022-a98a1e867ab2"
      },
      "execution_count": null,
      "outputs": [
        {
          "output_type": "stream",
          "name": "stdout",
          "text": [
            "True\n"
          ]
        }
      ]
    },
    {
      "cell_type": "code",
      "source": [
        " welcome_message = \"hello,welcome to classroom!\"\n",
        " print(welcome_message)"
      ],
      "metadata": {
        "colab": {
          "base_uri": "https://localhost:8080/"
        },
        "id": "IxoU-EmaZCJ9",
        "outputId": "b1ed391f-16cd-4bbe-a3d6-f6fcdee387e5"
      },
      "execution_count": null,
      "outputs": [
        {
          "output_type": "stream",
          "name": "stdout",
          "text": [
            "hello,welcome to classroom!\n"
          ]
        }
      ]
    },
    {
      "cell_type": "code",
      "source": [
        "first_word = 'hello'\n",
        "second_word = \"there\"\n",
        "print(first_word + second_word )"
      ],
      "metadata": {
        "colab": {
          "base_uri": "https://localhost:8080/"
        },
        "id": "rNqZyk3GeZSN",
        "outputId": "453e0966-7df1-4667-869b-9c3cd459348d"
      },
      "execution_count": null,
      "outputs": [
        {
          "output_type": "stream",
          "name": "stdout",
          "text": [
            "hellothere\n"
          ]
        }
      ]
    },
    {
      "cell_type": "code",
      "source": [
        "word = \"hello \"\n",
        "print(word*5)"
      ],
      "metadata": {
        "colab": {
          "base_uri": "https://localhost:8080/"
        },
        "id": "GZFK90Lqe1NO",
        "outputId": "9049687a-dc41-4592-ccf9-97a5d9a7b5d6"
      },
      "execution_count": null,
      "outputs": [
        {
          "output_type": "stream",
          "name": "stdout",
          "text": [
            "hello hello hello hello hello \n"
          ]
        }
      ]
    },
    {
      "cell_type": "code",
      "source": [
        "my_string = \" this is a string!\"\n",
        "my_string2 = \" this is also a string\"\n",
        "print(my_string + my_string2)"
      ],
      "metadata": {
        "colab": {
          "base_uri": "https://localhost:8080/"
        },
        "id": "LiXH4m-jfJTa",
        "outputId": "a3bca6c8-2d29-4dcb-9962-bb42715d0927"
      },
      "execution_count": null,
      "outputs": [
        {
          "output_type": "stream",
          "name": "stdout",
          "text": [
            " this is a string! this is also a string\n"
          ]
        }
      ]
    },
    {
      "cell_type": "code",
      "source": [
        "a = 'arifbinmushtaq'\n",
        "print(a)\n",
        "type(a)"
      ],
      "metadata": {
        "colab": {
          "base_uri": "https://localhost:8080/"
        },
        "id": "EiQCbg49gGpF",
        "outputId": "102f1fd2-6643-4475-c3e8-af2bcbed857d"
      },
      "execution_count": null,
      "outputs": [
        {
          "output_type": "stream",
          "name": "stdout",
          "text": [
            "arifbinmushtaq\n"
          ]
        },
        {
          "output_type": "execute_result",
          "data": {
            "text/plain": [
              "str"
            ]
          },
          "metadata": {},
          "execution_count": 37
        }
      ]
    },
    {
      "cell_type": "code",
      "source": [
        "len(a)"
      ],
      "metadata": {
        "colab": {
          "base_uri": "https://localhost:8080/"
        },
        "id": "1zQ68SiegdWJ",
        "outputId": "4f02bd7f-abbf-4238-df9f-37cd2ac7f334"
      },
      "execution_count": null,
      "outputs": [
        {
          "output_type": "execute_result",
          "data": {
            "text/plain": [
              "14"
            ]
          },
          "metadata": {},
          "execution_count": 38
        }
      ]
    },
    {
      "cell_type": "code",
      "source": [
        "print(a[0])"
      ],
      "metadata": {
        "colab": {
          "base_uri": "https://localhost:8080/"
        },
        "id": "BXGmgEWwggX8",
        "outputId": "98a44d38-8e54-44e2-f47a-5a94ec3d80c7"
      },
      "execution_count": null,
      "outputs": [
        {
          "output_type": "stream",
          "name": "stdout",
          "text": [
            "a\n"
          ]
        }
      ]
    },
    {
      "cell_type": "code",
      "source": [
        "ford_quote ='whether you think you can,or you think you can't-- you're right.'\n",
        "print(ford_quote)"
      ],
      "metadata": {
        "colab": {
          "base_uri": "https://localhost:8080/",
          "height": 133
        },
        "id": "8mMP-kZOgr5P",
        "outputId": "82d6b2bb-ce1b-42c4-cb97-396b52da42ed"
      },
      "execution_count": null,
      "outputs": [
        {
          "output_type": "error",
          "ename": "SyntaxError",
          "evalue": "ignored",
          "traceback": [
            "\u001b[0;36m  File \u001b[0;32m\"<ipython-input-45-8a9fe823297d>\"\u001b[0;36m, line \u001b[0;32m1\u001b[0m\n\u001b[0;31m    ford_quote ='whether you think you can,or you think you can't-- you're right.'\u001b[0m\n\u001b[0m                                                                ^\u001b[0m\n\u001b[0;31mSyntaxError\u001b[0m\u001b[0;31m:\u001b[0m invalid syntax\n"
          ]
        }
      ]
    },
    {
      "cell_type": "code",
      "source": [
        "coconut_count = '34'\n",
        "mango_count = '15'\n",
        "tropical_fruit_count = coconut_count + mango_count\n",
        "print(tropical_fruit_count)"
      ],
      "metadata": {
        "colab": {
          "base_uri": "https://localhost:8080/"
        },
        "id": "S8jC8OhGhQ39",
        "outputId": "7f2fdaea-6c17-4d66-d962-42175ba97837"
      },
      "execution_count": null,
      "outputs": [
        {
          "output_type": "stream",
          "name": "stdout",
          "text": [
            "3415\n"
          ]
        }
      ]
    },
    {
      "cell_type": "code",
      "source": [
        ""
      ],
      "metadata": {
        "id": "fD-J9TTFiElb"
      },
      "execution_count": null,
      "outputs": []
    }
  ]
}