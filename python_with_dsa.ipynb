{
  "nbformat": 4,
  "nbformat_minor": 0,
  "metadata": {
    "colab": {
      "provenance": [],
      "collapsed_sections": [],
      "authorship_tag": "ABX9TyPaUY17KgM3e5nj7N6xAFIB",
      "include_colab_link": true
    },
    "kernelspec": {
      "name": "python3",
      "display_name": "Python 3"
    },
    "language_info": {
      "name": "python"
    }
  },
  "cells": [
    {
      "cell_type": "markdown",
      "metadata": {
        "id": "view-in-github",
        "colab_type": "text"
      },
      "source": [
        "<a href=\"https://colab.research.google.com/github/Arifbinmushtaq/Arifbinmushtaq/blob/main/python_with_dsa.ipynb\" target=\"_parent\"><img src=\"https://colab.research.google.com/assets/colab-badge.svg\" alt=\"Open In Colab\"/></a>"
      ]
    },
    {
      "cell_type": "code",
      "execution_count": null,
      "metadata": {
        "colab": {
          "base_uri": "https://localhost:8080/"
        },
        "id": "wkDiDbRgkrr_",
        "outputId": "e66b15d2-bd02-4c6c-9797-4153845f8993"
      },
      "outputs": [
        {
          "output_type": "stream",
          "name": "stdout",
          "text": [
            "['hindi', 'english', 'maths', 'history']\n"
          ]
        }
      ],
      "source": [
        "#python specific data structures \n",
        "#built in functions that is list ,tuple,dictionary,set\n",
        "# 1 lists \n",
        "# lists is exactly what it sounds like , a container that contains different python objects which\n",
        "# could be integers,floats , stings ,\n",
        "#it is represented by square brackets and this is one of the attributes that differentiates it from tuples , which are seperated\n",
        "#by parenthesis \n",
        "# it is also mutable ,it can be modified or update ,unlike tuples which are mutable .\n",
        "\n",
        "subjects =['hindi','english','maths','history']\n",
        "print(subjects )"
      ]
    },
    {
      "cell_type": "code",
      "source": [
        "details = [ 'megha verma ','c-55','raj nagar','pitam pura ','Delhi-110034',7266]\n",
        "details"
      ],
      "metadata": {
        "colab": {
          "base_uri": "https://localhost:8080/"
        },
        "id": "97Jl8lbrk6oe",
        "outputId": "7792d133-4a46-4958-bc58-967a4d3adcc7"
      },
      "execution_count": null,
      "outputs": [
        {
          "output_type": "execute_result",
          "data": {
            "text/plain": [
              "['megha verma ', 'c-55', 'raj nagar', 'pitam pura ', 'Delhi-110034', 7266]"
            ]
          },
          "metadata": {},
          "execution_count": 2
        }
      ]
    },
    {
      "cell_type": "code",
      "source": [
        "#applying eval function for transforming the row string to a list \n",
        "details=eval(input('enter the details of megha;'))"
      ],
      "metadata": {
        "colab": {
          "base_uri": "https://localhost:8080/"
        },
        "id": "cMrepZ5ak7kM",
        "outputId": "b17d5f2f-ac79-43f7-9853-29c1e43b8067"
      },
      "execution_count": null,
      "outputs": [
        {
          "name": "stdout",
          "output_type": "stream",
          "text": [
            "enter the details of megha;'megha verma ','c-55','raj nagar','pitam pura ','Delhi-110034',726\n"
          ]
        }
      ]
    },
    {
      "cell_type": "code",
      "source": [
        "list_of_animals = ['dog','cat','goat']\n",
        "list_of_animals"
      ],
      "metadata": {
        "colab": {
          "base_uri": "https://localhost:8080/"
        },
        "id": "CUfbGOsKlxvd",
        "outputId": "d6501934-5d18-4c32-a000-b7617ed2605d"
      },
      "execution_count": null,
      "outputs": [
        {
          "output_type": "execute_result",
          "data": {
            "text/plain": [
              "['dog', 'cat', 'goat']"
            ]
          },
          "metadata": {},
          "execution_count": 6
        }
      ]
    },
    {
      "cell_type": "code",
      "source": [
        "list_of_numbers = [1,2,3,4,5]\n",
        "list_of_animals"
      ],
      "metadata": {
        "colab": {
          "base_uri": "https://localhost:8080/"
        },
        "id": "1zVgzQFAmDru",
        "outputId": "c39c80ab-fa52-43db-b4c3-e0ff63079221"
      },
      "execution_count": null,
      "outputs": [
        {
          "output_type": "execute_result",
          "data": {
            "text/plain": [
              "['dog', 'cat', 'goat']"
            ]
          },
          "metadata": {},
          "execution_count": 7
        }
      ]
    },
    {
      "cell_type": "code",
      "source": [
        "list_of_floating_numbers = [1.1,2.3,4.5,1.9]\n",
        "list_of_floating_numbers "
      ],
      "metadata": {
        "colab": {
          "base_uri": "https://localhost:8080/"
        },
        "id": "HhizDw99mMu8",
        "outputId": "fc2bad27-c264-4233-9d8a-2f43cef8dcf2"
      },
      "execution_count": null,
      "outputs": [
        {
          "output_type": "execute_result",
          "data": {
            "text/plain": [
              "[1.1, 2.3, 4.5, 1.9]"
            ]
          },
          "metadata": {},
          "execution_count": 8
        }
      ]
    },
    {
      "cell_type": "code",
      "source": [
        "#accessing values with list from begining it starts as 0,1,2.........\n",
        "#from end it starts as -1,-2,-3,-4,-5..................\n",
        "list=[3,22,29 ,47,28,98,27,19,33]\n",
        "list[0]=3\n",
        "list[1]=22\n",
        "list[3]=29\n",
        "list[-1]=33\n",
        "list[-4]=98"
      ],
      "metadata": {
        "id": "dAJFF2Gambwe"
      },
      "execution_count": null,
      "outputs": []
    },
    {
      "cell_type": "code",
      "source": [
        "#python list silicing \n",
        "#list silicing is the method of splitting a subset of a list and the indices of \n",
        "# of the list objects are also used for this \n",
        "\n"
      ],
      "metadata": {
        "id": "Epkk_8nanCZ1"
      },
      "execution_count": null,
      "outputs": []
    },
    {
      "cell_type": "code",
      "source": [
        "list1=[1,2,3,4,5,6,7,8,9]\n",
        "list1[:2] #getting only first two members \n"
      ],
      "metadata": {
        "colab": {
          "base_uri": "https://localhost:8080/"
        },
        "id": "EB1dSRI-n91Y",
        "outputId": "4abdf525-7f05-49ca-c964-fbd00f5278a5"
      },
      "execution_count": null,
      "outputs": [
        {
          "output_type": "execute_result",
          "data": {
            "text/plain": [
              "[1, 2]"
            ]
          },
          "metadata": {},
          "execution_count": 16
        }
      ]
    },
    {
      "cell_type": "markdown",
      "source": [
        "list1[:] #getting all members "
      ],
      "metadata": {
        "id": "LX2w40i1oXjU"
      }
    },
    {
      "cell_type": "code",
      "source": [
        "\n",
        "list1[:3] #getting first three members \n"
      ],
      "metadata": {
        "colab": {
          "base_uri": "https://localhost:8080/"
        },
        "id": "Ndg92Qonoh47",
        "outputId": "b763b68d-bb46-4a6d-d77f-71b969248f80"
      },
      "execution_count": null,
      "outputs": [
        {
          "output_type": "execute_result",
          "data": {
            "text/plain": [
              "[1, 2, 3]"
            ]
          },
          "metadata": {},
          "execution_count": 21
        }
      ]
    },
    {
      "cell_type": "code",
      "source": [
        "\n",
        "list1[3:] #gettingh members after 3 but 3 is excluded \n"
      ],
      "metadata": {
        "colab": {
          "base_uri": "https://localhost:8080/"
        },
        "id": "vUBBNbM9ooCh",
        "outputId": "13ac4d4c-134b-4e9f-a6b8-bb00d05a73ec"
      },
      "execution_count": null,
      "outputs": [
        {
          "output_type": "execute_result",
          "data": {
            "text/plain": [
              "[4, 5, 6, 7, 8, 9]"
            ]
          },
          "metadata": {},
          "execution_count": 22
        }
      ]
    },
    {
      "cell_type": "code",
      "source": [
        "\n",
        "list1[1:3] #getting from after 1 as 2 included and then 3 ( :3 include 3 )\n"
      ],
      "metadata": {
        "colab": {
          "base_uri": "https://localhost:8080/"
        },
        "id": "_UPpI-4aozQc",
        "outputId": "c958cb6c-beb4-4281-e5ed-72245dfaaf5c"
      },
      "execution_count": null,
      "outputs": [
        {
          "output_type": "execute_result",
          "data": {
            "text/plain": [
              "[2, 3]"
            ]
          },
          "metadata": {},
          "execution_count": 23
        }
      ]
    },
    {
      "cell_type": "code",
      "source": [
        "\n",
        "list1[-3:] #last 3 members \n"
      ],
      "metadata": {
        "colab": {
          "base_uri": "https://localhost:8080/"
        },
        "id": "BwhKUgeSpKKe",
        "outputId": "84046fc3-6ceb-4da0-dd2a-eebea8e3dc11"
      },
      "execution_count": null,
      "outputs": [
        {
          "output_type": "execute_result",
          "data": {
            "text/plain": [
              "[7, 8, 9]"
            ]
          },
          "metadata": {},
          "execution_count": 24
        }
      ]
    },
    {
      "cell_type": "code",
      "source": [
        "list1[2:-1] #from 3 to last 2nd member "
      ],
      "metadata": {
        "colab": {
          "base_uri": "https://localhost:8080/"
        },
        "id": "NPgUEqvKpRPl",
        "outputId": "ed0a2e1b-d2c3-4125-f9e1-676453f22356"
      },
      "execution_count": null,
      "outputs": [
        {
          "output_type": "execute_result",
          "data": {
            "text/plain": [
              "[3, 4, 5, 6, 7, 8]"
            ]
          },
          "metadata": {},
          "execution_count": 26
        }
      ]
    },
    {
      "cell_type": "code",
      "source": [],
      "metadata": {
        "id": "Zk2ksVuGpT-p"
      },
      "execution_count": null,
      "outputs": []
    }
  ]
}