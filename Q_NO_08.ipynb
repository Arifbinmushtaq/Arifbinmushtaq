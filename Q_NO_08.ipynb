{
  "nbformat": 4,
  "nbformat_minor": 0,
  "metadata": {
    "colab": {
      "name": "Q.NO:08.ipynb",
      "provenance": [],
      "authorship_tag": "ABX9TyPxlCGAsycP1GoIK0nxziNC",
      "include_colab_link": true
    },
    "kernelspec": {
      "name": "python3",
      "display_name": "Python 3"
    },
    "language_info": {
      "name": "python"
    }
  },
  "cells": [
    {
      "cell_type": "markdown",
      "metadata": {
        "id": "view-in-github",
        "colab_type": "text"
      },
      "source": [
        "<a href=\"https://colab.research.google.com/github/Arifbinmushtaq/Arifbinmushtaq/blob/main/Q_NO_08.ipynb\" target=\"_parent\"><img src=\"https://colab.research.google.com/assets/colab-badge.svg\" alt=\"Open In Colab\"/></a>"
      ]
    },
    {
      "cell_type": "code",
      "execution_count": 3,
      "metadata": {
        "colab": {
          "base_uri": "https://localhost:8080/"
        },
        "id": "7RPSggN3Ft4T",
        "outputId": "cf083162-b0b9-4306-a347-9784fc1a8be3"
      },
      "outputs": [
        {
          "output_type": "stream",
          "name": "stdout",
          "text": [
            "Enter a number of terms10\n",
            "0 112358132134"
          ]
        }
      ],
      "source": [
        "a=0\n",
        "b=1\n",
        "n=int(input('Enter a number of terms'))\n",
        "print(a,b,end=\"\")\n",
        "for i in range (3,n+1):\n",
        "  c = a + b\n",
        "  print(c,end=\"\")\n",
        "  a = b\n",
        "  b = c"
      ]
    },
    {
      "cell_type": "code",
      "source": [
        ""
      ],
      "metadata": {
        "id": "RSovkajuGMrD"
      },
      "execution_count": null,
      "outputs": []
    }
  ]
}