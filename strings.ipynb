{
  "nbformat": 4,
  "nbformat_minor": 0,
  "metadata": {
    "colab": {
      "name": "strings.ipynb",
      "provenance": [],
      "authorship_tag": "ABX9TyP190uYYZs/98JRCuKztz3y",
      "include_colab_link": true
    },
    "kernelspec": {
      "name": "python3",
      "display_name": "Python 3"
    },
    "language_info": {
      "name": "python"
    }
  },
  "cells": [
    {
      "cell_type": "markdown",
      "metadata": {
        "id": "view-in-github",
        "colab_type": "text"
      },
      "source": [
        "<a href=\"https://colab.research.google.com/github/Arifbinmushtaq/Arifbinmushtaq/blob/main/strings.ipynb\" target=\"_parent\"><img src=\"https://colab.research.google.com/assets/colab-badge.svg\" alt=\"Open In Colab\"/></a>"
      ]
    },
    {
      "cell_type": "code",
      "execution_count": null,
      "metadata": {
        "colab": {
          "base_uri": "https://localhost:8080/"
        },
        "id": "Tk2O8J_e7vRH",
        "outputId": "ec948671-ef7e-4681-e19f-e203cc394f45"
      },
      "outputs": [
        {
          "output_type": "stream",
          "name": "stdout",
          "text": [
            "i'm reading a book from library\n"
          ]
        }
      ],
      "source": [
        "string_one=\"i'm reading a book \"\n",
        "string_two=\"from library\"\n",
        "print(string_one + string_two) #string concatenation"
      ]
    },
    {
      "cell_type": "code",
      "source": [
        "string_three=string_one + string_two \n",
        "print(string_three)"
      ],
      "metadata": {
        "colab": {
          "base_uri": "https://localhost:8080/"
        },
        "id": "M0PldEEO8Kzo",
        "outputId": "ca777f96-a759-41ba-af9c-cf174632bf3f"
      },
      "execution_count": null,
      "outputs": [
        {
          "output_type": "stream",
          "name": "stdout",
          "text": [
            "i'm reading a book from library\n"
          ]
        }
      ]
    },
    {
      "cell_type": "code",
      "source": [
        "my_str=\"hello world\"\n",
        "print(my_str)"
      ],
      "metadata": {
        "colab": {
          "base_uri": "https://localhost:8080/"
        },
        "id": "mdG3EMvT8by0",
        "outputId": "ced21fea-de73-4842-f07a-e0c5d3eea63c"
      },
      "execution_count": null,
      "outputs": [
        {
          "output_type": "stream",
          "name": "stdout",
          "text": [
            "hello world\n"
          ]
        }
      ]
    },
    {
      "cell_type": "code",
      "source": [
        "\"whats happening there\"\n",
        "\"hello\\nwhtas\\happening\"\n",
        "print(\"hello whats happening\")"
      ],
      "metadata": {
        "colab": {
          "base_uri": "https://localhost:8080/"
        },
        "id": "Ex5fs5FZ9AOk",
        "outputId": "33b73acb-dc10-4b7c-c99f-de27c668c7d1"
      },
      "execution_count": null,
      "outputs": [
        {
          "output_type": "stream",
          "name": "stdout",
          "text": [
            "hello whats happening\n"
          ]
        }
      ]
    },
    {
      "cell_type": "code",
      "source": [
        "'alice'*5"
      ],
      "metadata": {
        "colab": {
          "base_uri": "https://localhost:8080/",
          "height": 35
        },
        "id": "bRInJJe39iiL",
        "outputId": "3a78542b-6ba1-430f-eed4-0bcda860ee93"
      },
      "execution_count": null,
      "outputs": [
        {
          "output_type": "execute_result",
          "data": {
            "application/vnd.google.colaboratory.intrinsic+json": {
              "type": "string"
            },
            "text/plain": [
              "'alicealicealicealicealice'"
            ]
          },
          "metadata": {},
          "execution_count": 13
        }
      ]
    },
    {
      "cell_type": "code",
      "source": [
        "'computer' + 'science'"
      ],
      "metadata": {
        "colab": {
          "base_uri": "https://localhost:8080/",
          "height": 35
        },
        "id": "x2_cc0ea90bj",
        "outputId": "84904b41-54fe-4279-a39b-d5fbbab8fc8f"
      },
      "execution_count": null,
      "outputs": [
        {
          "output_type": "execute_result",
          "data": {
            "application/vnd.google.colaboratory.intrinsic+json": {
              "type": "string"
            },
            "text/plain": [
              "'computerscience'"
            ]
          },
          "metadata": {},
          "execution_count": 15
        }
      ]
    },
    {
      "cell_type": "code",
      "source": [
        "'hi'*10"
      ],
      "metadata": {
        "colab": {
          "base_uri": "https://localhost:8080/",
          "height": 35
        },
        "id": "ppTcSbt4-sGK",
        "outputId": "c8b86dd8-78d8-49a7-82f7-1dbbad2a0e09"
      },
      "execution_count": null,
      "outputs": [
        {
          "output_type": "execute_result",
          "data": {
            "application/vnd.google.colaboratory.intrinsic+json": {
              "type": "string"
            },
            "text/plain": [
              "'hihihihihihihihihihi'"
            ]
          },
          "metadata": {},
          "execution_count": 19
        }
      ]
    },
    {
      "cell_type": "code",
      "source": [
        "name=input(\"Hi! what's your name ?\")\n",
        "print(\"nice to meet you \"+ name + \"!\")"
      ],
      "metadata": {
        "colab": {
          "base_uri": "https://localhost:8080/"
        },
        "id": "58SpaivJ-zqs",
        "outputId": "e15ba953-fe91-4c1f-bd78-161fc3d99cab"
      },
      "execution_count": null,
      "outputs": [
        {
          "output_type": "stream",
          "name": "stdout",
          "text": [
            "Hi! what's your name ?arif\n",
            "nice to meet you arif!\n"
          ]
        }
      ]
    },
    {
      "cell_type": "code",
      "source": [
        "age =input(\"how old are you?\")\n",
        "print(\"so,you are already\"+ str(age) + \"years old,\"+ name  + \"!\")"
      ],
      "metadata": {
        "colab": {
          "base_uri": "https://localhost:8080/"
        },
        "id": "C_1XQjJS_f0k",
        "outputId": "dd2f3fc1-b157-4b0a-e6de-27768c160416"
      },
      "execution_count": null,
      "outputs": [
        {
          "output_type": "stream",
          "name": "stdout",
          "text": [
            "how old are you?17\n",
            "so,you are already17years old,arif!\n"
          ]
        }
      ]
    },
    {
      "cell_type": "code",
      "source": [
        "type(age)"
      ],
      "metadata": {
        "colab": {
          "base_uri": "https://localhost:8080/"
        },
        "id": "Rak-_4L2ARyt",
        "outputId": "443d678a-3ae1-4547-8fa0-82d334eb0fdc"
      },
      "execution_count": null,
      "outputs": [
        {
          "output_type": "execute_result",
          "data": {
            "text/plain": [
              "str"
            ]
          },
          "metadata": {},
          "execution_count": 35
        }
      ]
    },
    {
      "cell_type": "code",
      "source": [
        ""
      ],
      "metadata": {
        "id": "gLson1MZCwHS"
      },
      "execution_count": null,
      "outputs": []
    }
  ]
}