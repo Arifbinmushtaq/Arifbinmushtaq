{
  "nbformat": 4,
  "nbformat_minor": 0,
  "metadata": {
    "colab": {
      "name": "numpy linear algebra.ipynb",
      "provenance": [],
      "collapsed_sections": [],
      "authorship_tag": "ABX9TyO/nJcYl/C5sJzTxXoTjTPG",
      "include_colab_link": true
    },
    "kernelspec": {
      "name": "python3",
      "display_name": "Python 3"
    },
    "language_info": {
      "name": "python"
    }
  },
  "cells": [
    {
      "cell_type": "markdown",
      "metadata": {
        "id": "view-in-github",
        "colab_type": "text"
      },
      "source": [
        "<a href=\"https://colab.research.google.com/github/Arifbinmushtaq/Arifbinmushtaq/blob/main/numpy_linear_algebra.ipynb\" target=\"_parent\"><img src=\"https://colab.research.google.com/assets/colab-badge.svg\" alt=\"Open In Colab\"/></a>"
      ]
    },
    {
      "cell_type": "code",
      "execution_count": 2,
      "metadata": {
        "colab": {
          "base_uri": "https://localhost:8080/"
        },
        "id": "sVC6i_i3rrXk",
        "outputId": "0d359fd3-842a-4a73-c46d-68a7391b88c0"
      },
      "outputs": [
        {
          "output_type": "stream",
          "name": "stdout",
          "text": [
            "[1 2 3]\n"
          ]
        }
      ],
      "source": [
        "import numpy as np \n",
        "a=np.array([1,2,3])\n",
        "print(a)\n"
      ]
    },
    {
      "cell_type": "code",
      "source": [
        "print(a[0])\n",
        "print(a[1])\n",
        "print(a[2])"
      ],
      "metadata": {
        "colab": {
          "base_uri": "https://localhost:8080/"
        },
        "id": "hLA_xfZrtBpH",
        "outputId": "3c401546-087a-47ae-9cbe-e4f9c9547840"
      },
      "execution_count": 4,
      "outputs": [
        {
          "output_type": "stream",
          "name": "stdout",
          "text": [
            "1\n",
            "2\n",
            "3\n"
          ]
        }
      ]
    },
    {
      "cell_type": "code",
      "source": [
        "#practical_02 -----------------------------------------------------------------"
      ],
      "metadata": {
        "id": "EW8AzjuU3Xpu"
      },
      "execution_count": null,
      "outputs": []
    },
    {
      "cell_type": "code",
      "source": [
        "#practical 02 linear algebra\n",
        "a=np.array([1.0,2.0,3.0])\n",
        "print(a)\n",
        "print(a.shape)\n",
        "print(a.dtype)"
      ],
      "metadata": {
        "colab": {
          "base_uri": "https://localhost:8080/"
        },
        "id": "lQc_tsz4tOId",
        "outputId": "7da41671-9542-43ac-dcda-4cc23b85457d"
      },
      "execution_count": 7,
      "outputs": [
        {
          "output_type": "stream",
          "name": "stdout",
          "text": [
            "[1. 2. 3.]\n",
            "(3,)\n",
            "float64\n"
          ]
        }
      ]
    },
    {
      "cell_type": "code",
      "source": [
        ""
      ],
      "metadata": {
        "id": "G0h_Snft3WiI"
      },
      "execution_count": null,
      "outputs": []
    },
    {
      "cell_type": "code",
      "source": [
        "# to create zeros\n",
        "a=np.zeros([3,5])\n",
        "print(a)"
      ],
      "metadata": {
        "colab": {
          "base_uri": "https://localhost:8080/"
        },
        "id": "FKxPlyw2uFpA",
        "outputId": "a2aabc01-c22e-484a-8494-7fbd10d5aaa0"
      },
      "execution_count": 8,
      "outputs": [
        {
          "output_type": "stream",
          "name": "stdout",
          "text": [
            "[[0. 0. 0. 0. 0.]\n",
            " [0. 0. 0. 0. 0.]\n",
            " [0. 0. 0. 0. 0.]]\n"
          ]
        }
      ]
    },
    {
      "cell_type": "code",
      "source": [
        "#to create ones\n",
        "b=np.ones([1,2,3])\n",
        "print(b)"
      ],
      "metadata": {
        "colab": {
          "base_uri": "https://localhost:8080/"
        },
        "id": "SRGtIsAjvj_1",
        "outputId": "125cbdf4-5844-4a66-f026-518d8e866356"
      },
      "execution_count": 13,
      "outputs": [
        {
          "output_type": "stream",
          "name": "stdout",
          "text": [
            "[[[1. 1. 1.]\n",
            "  [1. 1. 1.]]]\n"
          ]
        }
      ]
    },
    {
      "cell_type": "code",
      "source": [
        "#to create empty array \n",
        "s=np.empty([1,2])\n",
        "print(s)"
      ],
      "metadata": {
        "colab": {
          "base_uri": "https://localhost:8080/"
        },
        "id": "nUhsanBuvz3A",
        "outputId": "75c80694-774d-4310-fdf0-bd218e9bf57c"
      },
      "execution_count": 16,
      "outputs": [
        {
          "output_type": "stream",
          "name": "stdout",
          "text": [
            "[[1. 1.]]\n"
          ]
        }
      ]
    },
    {
      "cell_type": "code",
      "source": [
        "x=np.array([3,4,5])\n",
        "print(x)"
      ],
      "metadata": {
        "colab": {
          "base_uri": "https://localhost:8080/"
        },
        "id": "o7sIV25owXV8",
        "outputId": "5298eeb7-22c7-4778-d5fe-993732e7bfd9"
      },
      "execution_count": 17,
      "outputs": [
        {
          "output_type": "stream",
          "name": "stdout",
          "text": [
            "[3 4 5]\n"
          ]
        }
      ]
    },
    {
      "cell_type": "code",
      "source": [
        "y=np.array([4,5,6])\n",
        "print(y)"
      ],
      "metadata": {
        "colab": {
          "base_uri": "https://localhost:8080/"
        },
        "id": "O8RfYOwfwzYu",
        "outputId": "d9620839-ab04-44b7-bc0e-b256d3551088"
      },
      "execution_count": 18,
      "outputs": [
        {
          "output_type": "stream",
          "name": "stdout",
          "text": [
            "[4 5 6]\n"
          ]
        }
      ]
    },
    {
      "cell_type": "code",
      "source": [
        "z = x*y\n",
        "print(z)"
      ],
      "metadata": {
        "colab": {
          "base_uri": "https://localhost:8080/"
        },
        "id": "Tib5cSgdxAhr",
        "outputId": "0acdfbde-3467-45de-e3fe-62df26d110df"
      },
      "execution_count": 19,
      "outputs": [
        {
          "output_type": "stream",
          "name": "stdout",
          "text": [
            "[12 20 30]\n"
          ]
        }
      ]
    },
    {
      "cell_type": "code",
      "source": [
        "z=x+y\n",
        "print(z)"
      ],
      "metadata": {
        "colab": {
          "base_uri": "https://localhost:8080/"
        },
        "id": "HfrfL9umxJCu",
        "outputId": "16b8955c-2662-44f8-d20c-dd8045bd96b5"
      },
      "execution_count": 20,
      "outputs": [
        {
          "output_type": "stream",
          "name": "stdout",
          "text": [
            "[ 7  9 11]\n"
          ]
        }
      ]
    },
    {
      "cell_type": "code",
      "source": [
        "z=np.vstack((x,y))\n",
        "print(z)"
      ],
      "metadata": {
        "colab": {
          "base_uri": "https://localhost:8080/"
        },
        "id": "kOXigKnKxNfO",
        "outputId": "32b8c51d-a7f6-48c9-91fe-98f3b3abd78d"
      },
      "execution_count": 21,
      "outputs": [
        {
          "output_type": "stream",
          "name": "stdout",
          "text": [
            "[[3 4 5]\n",
            " [4 5 6]]\n"
          ]
        }
      ]
    },
    {
      "cell_type": "code",
      "source": [
        "w=np.hstack((x,y))\n",
        "print(w)"
      ],
      "metadata": {
        "colab": {
          "base_uri": "https://localhost:8080/"
        },
        "id": "R3Uy12OaxWlV",
        "outputId": "41299dbb-ad7e-4b8d-87d0-4ab801c703a6"
      },
      "execution_count": 22,
      "outputs": [
        {
          "output_type": "stream",
          "name": "stdout",
          "text": [
            "[3 4 5 4 5 6]\n"
          ]
        }
      ]
    },
    {
      "cell_type": "code",
      "source": [
        "#to create matrix\n",
        "a=np.array([[1,2,3],[2,3,4],[1,4,9]])\n",
        "print(a)"
      ],
      "metadata": {
        "colab": {
          "base_uri": "https://localhost:8080/"
        },
        "id": "BishGPt-xcSG",
        "outputId": "898f6434-f225-49af-fb11-e03b0c3e8cb9"
      },
      "execution_count": 23,
      "outputs": [
        {
          "output_type": "stream",
          "name": "stdout",
          "text": [
            "[[1 2 3]\n",
            " [2 3 4]\n",
            " [1 4 9]]\n"
          ]
        }
      ]
    },
    {
      "cell_type": "code",
      "source": [
        "b = np.array([[1,4,6],[3,0,6],[6,3,2]])\n",
        "print(b)"
      ],
      "metadata": {
        "colab": {
          "base_uri": "https://localhost:8080/"
        },
        "id": "l4YvQ9YPxyjZ",
        "outputId": "9b3a0d0f-b3b8-4834-fef7-83d404ac148f"
      },
      "execution_count": 24,
      "outputs": [
        {
          "output_type": "stream",
          "name": "stdout",
          "text": [
            "[[1 4 6]\n",
            " [3 0 6]\n",
            " [6 3 2]]\n"
          ]
        }
      ]
    },
    {
      "cell_type": "code",
      "source": [
        "print(a+b)"
      ],
      "metadata": {
        "colab": {
          "base_uri": "https://localhost:8080/"
        },
        "id": "dBTVuXAAx8hT",
        "outputId": "84391a34-54fe-4f4f-a3fe-05b9028bb8bc"
      },
      "execution_count": 25,
      "outputs": [
        {
          "output_type": "stream",
          "name": "stdout",
          "text": [
            "[[ 2  6  9]\n",
            " [ 5  3 10]\n",
            " [ 7  7 11]]\n"
          ]
        }
      ]
    },
    {
      "cell_type": "code",
      "source": [
        "print(a*b)"
      ],
      "metadata": {
        "colab": {
          "base_uri": "https://localhost:8080/"
        },
        "id": "MCIwe7nBx-lW",
        "outputId": "bb696002-e046-4cca-9ff1-978fab89d079"
      },
      "execution_count": 26,
      "outputs": [
        {
          "output_type": "stream",
          "name": "stdout",
          "text": [
            "[[ 1  8 18]\n",
            " [ 6  0 24]\n",
            " [ 6 12 18]]\n"
          ]
        }
      ]
    },
    {
      "cell_type": "code",
      "source": [
        "print(a/b)"
      ],
      "metadata": {
        "colab": {
          "base_uri": "https://localhost:8080/"
        },
        "id": "7tyXUIBmyA_U",
        "outputId": "8cc72b1d-d3d5-468d-e5d7-9967b245405d"
      },
      "execution_count": 27,
      "outputs": [
        {
          "output_type": "stream",
          "name": "stdout",
          "text": [
            "[[1.         0.5        0.5       ]\n",
            " [0.66666667        inf 0.66666667]\n",
            " [0.16666667 1.33333333 4.5       ]]\n"
          ]
        },
        {
          "output_type": "stream",
          "name": "stderr",
          "text": [
            "/usr/local/lib/python3.7/dist-packages/ipykernel_launcher.py:1: RuntimeWarning: divide by zero encountered in true_divide\n",
            "  \"\"\"Entry point for launching an IPython kernel.\n"
          ]
        }
      ]
    },
    {
      "cell_type": "code",
      "source": [
        "I=np.identity(6)\n",
        "print(I)"
      ],
      "metadata": {
        "colab": {
          "base_uri": "https://localhost:8080/"
        },
        "id": "JeZz5KMMyG3R",
        "outputId": "b9c35951-b8fc-4223-b8fe-30fd355d239f"
      },
      "execution_count": 28,
      "outputs": [
        {
          "output_type": "stream",
          "name": "stdout",
          "text": [
            "[[1. 0. 0. 0. 0. 0.]\n",
            " [0. 1. 0. 0. 0. 0.]\n",
            " [0. 0. 1. 0. 0. 0.]\n",
            " [0. 0. 0. 1. 0. 0.]\n",
            " [0. 0. 0. 0. 1. 0.]\n",
            " [0. 0. 0. 0. 0. 1.]]\n"
          ]
        }
      ]
    },
    {
      "cell_type": "code",
      "source": [
        "x=np.array([[12,13,14,],[12,14,15],[18,19,20]])\n",
        "print(np.tril(x))"
      ],
      "metadata": {
        "colab": {
          "base_uri": "https://localhost:8080/"
        },
        "id": "R0cLwFW1yzCG",
        "outputId": "8d5c379d-9e49-4402-aee6-4fa25a1af119"
      },
      "execution_count": 29,
      "outputs": [
        {
          "output_type": "stream",
          "name": "stdout",
          "text": [
            "[[12  0  0]\n",
            " [12 14  0]\n",
            " [18 19 20]]\n"
          ]
        }
      ]
    },
    {
      "cell_type": "code",
      "source": [
        "print(np.triu(x))"
      ],
      "metadata": {
        "colab": {
          "base_uri": "https://localhost:8080/"
        },
        "id": "cJpup6KbzJ5t",
        "outputId": "b84b964b-f3a3-4363-fa8b-6668a7b07485"
      },
      "execution_count": 31,
      "outputs": [
        {
          "output_type": "stream",
          "name": "stdout",
          "text": [
            "[[12 13 14]\n",
            " [ 0 14 15]\n",
            " [ 0  0 20]]\n"
          ]
        }
      ]
    },
    {
      "cell_type": "code",
      "source": [
        "D=np.array([[1,2,3],[1,3,5],[1,9,6]])\n",
        "print(D)"
      ],
      "metadata": {
        "colab": {
          "base_uri": "https://localhost:8080/"
        },
        "id": "tF4L97RRzPHE",
        "outputId": "b642f7d8-9206-4480-f334-0522f03cb558"
      },
      "execution_count": 32,
      "outputs": [
        {
          "output_type": "stream",
          "name": "stdout",
          "text": [
            "[[1 2 3]\n",
            " [1 3 5]\n",
            " [1 9 6]]\n"
          ]
        }
      ]
    },
    {
      "cell_type": "code",
      "source": [
        "d=np.diag(D)\n",
        "print(D)\n",
        "M=np.diag(d)\n",
        "print(M)"
      ],
      "metadata": {
        "colab": {
          "base_uri": "https://localhost:8080/"
        },
        "id": "PC3VxiOhzl7R",
        "outputId": "7ad16146-1839-4dda-89d7-5faaa8ca6742"
      },
      "execution_count": 34,
      "outputs": [
        {
          "output_type": "stream",
          "name": "stdout",
          "text": [
            "[[1 2 3]\n",
            " [1 3 5]\n",
            " [1 9 6]]\n",
            "[[1 0 0]\n",
            " [0 3 0]\n",
            " [0 0 6]]\n"
          ]
        }
      ]
    },
    {
      "cell_type": "code",
      "source": [
        "#transpose of matrix\n",
        "a=np.array([[1,2,3],[1,5,9],[1,0,5]])\n",
        "print(a)\n"
      ],
      "metadata": {
        "colab": {
          "base_uri": "https://localhost:8080/"
        },
        "id": "Djx-w3HczrAE",
        "outputId": "01780315-61e5-47bf-b03a-b083778a4a9f"
      },
      "execution_count": 35,
      "outputs": [
        {
          "output_type": "stream",
          "name": "stdout",
          "text": [
            "[[1 2 3]\n",
            " [1 5 9]\n",
            " [1 0 5]]\n"
          ]
        }
      ]
    },
    {
      "cell_type": "code",
      "source": [
        "print(a.T)"
      ],
      "metadata": {
        "colab": {
          "base_uri": "https://localhost:8080/"
        },
        "id": "5rczXyPt0Jb6",
        "outputId": "a5213393-d8ca-4329-a516-fe459d982b75"
      },
      "execution_count": 36,
      "outputs": [
        {
          "output_type": "stream",
          "name": "stdout",
          "text": [
            "[[1 1 1]\n",
            " [2 5 0]\n",
            " [3 9 5]]\n"
          ]
        }
      ]
    },
    {
      "cell_type": "code",
      "source": [
        "#inverse \n",
        "a=np.array([[11,2,9],[17,8,0],[14,0,16]])\n",
        "print(a)\n"
      ],
      "metadata": {
        "colab": {
          "base_uri": "https://localhost:8080/"
        },
        "id": "bHaKvAbk0ONC",
        "outputId": "4bdeb3f8-50a4-4c42-c539-d61b3c38cba3"
      },
      "execution_count": 37,
      "outputs": [
        {
          "output_type": "stream",
          "name": "stdout",
          "text": [
            "[[11  2  9]\n",
            " [17  8  0]\n",
            " [14  0 16]]\n"
          ]
        }
      ]
    },
    {
      "cell_type": "code",
      "source": [
        "b=np.linalg.inv(a)\n",
        "print(b)"
      ],
      "metadata": {
        "colab": {
          "base_uri": "https://localhost:8080/"
        },
        "id": "LI9u7T_70q29",
        "outputId": "ef5c8681-8758-42db-8b70-5add0ac77bb3"
      },
      "execution_count": 38,
      "outputs": [
        {
          "output_type": "stream",
          "name": "stdout",
          "text": [
            "[[-0.88888889  0.22222222  0.5       ]\n",
            " [ 1.88888889 -0.34722222 -1.0625    ]\n",
            " [ 0.77777778 -0.19444444 -0.375     ]]\n"
          ]
        }
      ]
    },
    {
      "cell_type": "code",
      "source": [
        "#orthogonal\n",
        "a=np.array([[1,2,3],[1,1,1],[0,0,0]])\n",
        "R=a.T\n",
        "print(a)\n",
        "print(R)\n",
        "I=a.dot(R)\n",
        "print(I)"
      ],
      "metadata": {
        "colab": {
          "base_uri": "https://localhost:8080/"
        },
        "id": "1d8MlFS204U5",
        "outputId": "c1d2382e-df59-4b3d-d3c8-0c28aad94b5d"
      },
      "execution_count": 40,
      "outputs": [
        {
          "output_type": "stream",
          "name": "stdout",
          "text": [
            "[[1 2 3]\n",
            " [1 1 1]\n",
            " [0 0 0]]\n",
            "[[1 1 0]\n",
            " [2 1 0]\n",
            " [3 1 0]]\n",
            "[[14  6  0]\n",
            " [ 6  3  0]\n",
            " [ 0  0  0]]\n"
          ]
        }
      ]
    },
    {
      "cell_type": "code",
      "source": [
        "#matrix determinant \n",
        "a=np.array(([1,2,3],[1,7,9],[1,9,2]))\n",
        "print(a)\n",
        "b=np.linalg.det(a)\n",
        "print(b)"
      ],
      "metadata": {
        "colab": {
          "base_uri": "https://localhost:8080/"
        },
        "id": "y9jDByf61vHy",
        "outputId": "4100db67-ca1c-4f20-8d1d-14e1ee002d15"
      },
      "execution_count": 43,
      "outputs": [
        {
          "output_type": "stream",
          "name": "stdout",
          "text": [
            "[[1 2 3]\n",
            " [1 7 9]\n",
            " [1 9 2]]\n",
            "-46.99999999999999\n"
          ]
        }
      ]
    },
    {
      "cell_type": "code",
      "source": [
        "#rank\n",
        "v=np.array([[1,2,3],[4,5,6],[7,8,9]])\n",
        "print(v)\n",
        "v = np.linalg.matrix_rank(v)\n",
        "print(v)"
      ],
      "metadata": {
        "colab": {
          "base_uri": "https://localhost:8080/"
        },
        "id": "iShb8yiB2Ba6",
        "outputId": "95ef8b43-ef0e-4648-88cc-3296c5f22a66"
      },
      "execution_count": 47,
      "outputs": [
        {
          "output_type": "stream",
          "name": "stdout",
          "text": [
            "[[1 2 3]\n",
            " [4 5 6]\n",
            " [7 8 9]]\n",
            "2\n"
          ]
        }
      ]
    },
    {
      "cell_type": "code",
      "source": [
        "#trace\n",
        "a=np.array([[11,23,6],[1,2,6],[1,1,1]])\n",
        "print(a)\n",
        "s=np.trace(a)\n",
        "print(s)"
      ],
      "metadata": {
        "colab": {
          "base_uri": "https://localhost:8080/"
        },
        "id": "AQopDF7P2gO3",
        "outputId": "55f2c0f5-b015-4784-b5e3-a2a2022b05ce"
      },
      "execution_count": 49,
      "outputs": [
        {
          "output_type": "stream",
          "name": "stdout",
          "text": [
            "[[11 23  6]\n",
            " [ 1  2  6]\n",
            " [ 1  1  1]]\n",
            "14\n"
          ]
        }
      ]
    },
    {
      "cell_type": "code",
      "source": [
        ""
      ],
      "metadata": {
        "id": "vyTd_cmP3Cs5"
      },
      "execution_count": null,
      "outputs": []
    }
  ]
}