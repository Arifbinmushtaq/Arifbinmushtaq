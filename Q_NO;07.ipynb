{
  "nbformat": 4,
  "nbformat_minor": 0,
  "metadata": {
    "colab": {
      "name": "Q.NO;07.ipynb",
      "provenance": [],
      "authorship_tag": "ABX9TyNOw148JsasWiMTGzsTI3xy",
      "include_colab_link": true
    },
    "kernelspec": {
      "name": "python3",
      "display_name": "Python 3"
    },
    "language_info": {
      "name": "python"
    }
  },
  "cells": [
    {
      "cell_type": "markdown",
      "metadata": {
        "id": "view-in-github",
        "colab_type": "text"
      },
      "source": [
        "<a href=\"https://colab.research.google.com/github/Arifbinmushtaq/Arifbinmushtaq/blob/main/Q_NO%3B07.ipynb\" target=\"_parent\"><img src=\"https://colab.research.google.com/assets/colab-badge.svg\" alt=\"Open In Colab\"/></a>"
      ]
    },
    {
      "cell_type": "code",
      "source": [
        "i = int(input(\"Enter a number\"))\n",
        "fac = 1\n",
        "if(i<0):\n",
        "  print('please enter a positive number')\n",
        "elif(i==0):\n",
        "  print(\"factorial=1\")\n",
        "else:\n",
        "  while(i>0):\n",
        "    fac=fac*i\n",
        "    i=i-1\n",
        "print(\"factorial =\",fac)\n"
      ],
      "metadata": {
        "colab": {
          "base_uri": "https://localhost:8080/"
        },
        "id": "PoLJtnCqIVTL",
        "outputId": "04ebba20-7f35-455c-8acc-9f53c025abb9"
      },
      "execution_count": 1,
      "outputs": [
        {
          "output_type": "stream",
          "name": "stdout",
          "text": [
            "Enter a number5\n",
            "factorial = 120\n"
          ]
        }
      ]
    },
    {
      "cell_type": "code",
      "source": [
        ""
      ],
      "metadata": {
        "id": "46AK3Ac6S57v"
      },
      "execution_count": null,
      "outputs": []
    },
    {
      "cell_type": "code",
      "source": [
        ""
      ],
      "metadata": {
        "id": "sXlu4L4RTAzJ"
      },
      "execution_count": null,
      "outputs": []
    }
  ]
}