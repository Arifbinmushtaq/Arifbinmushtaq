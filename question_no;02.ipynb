{
  "nbformat": 4,
  "nbformat_minor": 0,
  "metadata": {
    "colab": {
      "name": "question no;02.ipynb",
      "provenance": [],
      "authorship_tag": "ABX9TyM38d6y3W/ja5N9/56xek1Q",
      "include_colab_link": true
    },
    "kernelspec": {
      "name": "python3",
      "display_name": "Python 3"
    },
    "language_info": {
      "name": "python"
    }
  },
  "cells": [
    {
      "cell_type": "markdown",
      "metadata": {
        "id": "view-in-github",
        "colab_type": "text"
      },
      "source": [
        "<a href=\"https://colab.research.google.com/github/Arifbinmushtaq/Arifbinmushtaq/blob/main/question_no%3B02.ipynb\" target=\"_parent\"><img src=\"https://colab.research.google.com/assets/colab-badge.svg\" alt=\"Open In Colab\"/></a>"
      ]
    },
    {
      "cell_type": "code",
      "execution_count": null,
      "metadata": {
        "id": "H3TgDTMb28UZ"
      },
      "outputs": [],
      "source": [
        "# write  a python function to produce the output such as "
      ]
    },
    {
      "cell_type": "code",
      "source": [
        "for i in range(1,5):\n",
        "  for j in range (i,0,-1):\n",
        "    print(j, end=\"\")\n",
        "  print()"
      ],
      "metadata": {
        "colab": {
          "base_uri": "https://localhost:8080/"
        },
        "id": "mhup-Nyz74aq",
        "outputId": "e93f8551-eab4-4bc4-c39f-2aa671775c83"
      },
      "execution_count": 9,
      "outputs": [
        {
          "output_type": "stream",
          "name": "stdout",
          "text": [
            "1\n",
            "21\n",
            "321\n",
            "4321\n"
          ]
        }
      ]
    },
    {
      "cell_type": "code",
      "source": [
        "n=int(input(\"Enter the number of rows:\"))\n",
        "for i in range(1,n+1):\n",
        "  for j in range(1,n-1+1):\n",
        "      print(j,end=\"\")\n",
        "  for j in range (1,i+1):\n",
        "      print(j,end=\"\")\n",
        "  for j in range (i-1,0,-1):\n",
        "      print(j,end=\"\")\n",
        "  print()\n",
        "  for i in range (1,n):\n",
        "      for j in range (1,i+1):\n",
        "          print(j,end=\"\")\n",
        "      for j in range (1,n-1):\n",
        "          print(j,end=\"\")\n",
        "      for j in range (n-1,0,-1):\n",
        "          print(j,end=\"\")\n",
        "  print()"
      ],
      "metadata": {
        "colab": {
          "base_uri": "https://localhost:8080/"
        },
        "id": "YG-HThoT8Hdt",
        "outputId": "fe07f481-2093-4b9c-dfdf-858bb1950728"
      },
      "execution_count": 18,
      "outputs": [
        {
          "output_type": "stream",
          "name": "stdout",
          "text": [
            "Enter the number of rows:6\n",
            "123451\n",
            "112345432112123454321123123454321123412345432112345123454321\n",
            "12345121\n",
            "112345432112123454321123123454321123412345432112345123454321\n",
            "1234512321\n",
            "112345432112123454321123123454321123412345432112345123454321\n",
            "123451234321\n",
            "112345432112123454321123123454321123412345432112345123454321\n",
            "12345123454321\n",
            "112345432112123454321123123454321123412345432112345123454321\n",
            "1234512345654321\n",
            "112345432112123454321123123454321123412345432112345123454321\n"
          ]
        }
      ]
    },
    {
      "cell_type": "code",
      "source": [
        ""
      ],
      "metadata": {
        "id": "dTF7cKdS8uZ5"
      },
      "execution_count": 13,
      "outputs": []
    }
  ]
}