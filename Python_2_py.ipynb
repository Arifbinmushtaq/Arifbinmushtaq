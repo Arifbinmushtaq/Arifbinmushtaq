{
  "nbformat": 4,
  "nbformat_minor": 0,
  "metadata": {
    "colab": {
      "name": "Python 2.py",
      "provenance": [],
      "collapsed_sections": [],
      "authorship_tag": "ABX9TyOGYqRR3W+4BVXZcBChfVt3",
      "include_colab_link": true
    },
    "kernelspec": {
      "name": "python3",
      "display_name": "Python 3"
    },
    "language_info": {
      "name": "python"
    }
  },
  "cells": [
    {
      "cell_type": "markdown",
      "metadata": {
        "id": "view-in-github",
        "colab_type": "text"
      },
      "source": [
        "<a href=\"https://colab.research.google.com/github/Arifbinmushtaq/Arifbinmushtaq/blob/main/Python_2_py.ipynb\" target=\"_parent\"><img src=\"https://colab.research.google.com/assets/colab-badge.svg\" alt=\"Open In Colab\"/></a>"
      ]
    },
    {
      "cell_type": "code",
      "execution_count": null,
      "metadata": {
        "id": "Vm20A_zBCr7j",
        "colab": {
          "base_uri": "https://localhost:8080/"
        },
        "outputId": "0f393118-2869-4733-9c8b-add825742b5a"
      },
      "outputs": [
        {
          "output_type": "stream",
          "name": "stdout",
          "text": [
            "*\n",
            "**\n"
          ]
        }
      ],
      "source": [
        "print('*')\n",
        "print(\"**\")"
      ]
    },
    {
      "cell_type": "code",
      "source": [
        "from google.colab import drive\n",
        "drive.mount('/content/drive')"
      ],
      "metadata": {
        "id": "c_fbNTRYYcGI"
      },
      "execution_count": null,
      "outputs": []
    },
    {
      "cell_type": "markdown",
      "source": [
        "# New Section"
      ],
      "metadata": {
        "id": "N8UJ7qDYYh5-"
      }
    },
    {
      "cell_type": "code",
      "source": [
        "print('hello india','namaste india')"
      ],
      "metadata": {
        "colab": {
          "base_uri": "https://localhost:8080/"
        },
        "id": "iz83foZioRQs",
        "outputId": "095d6dc9-6e6f-42c7-9ca9-c1def283c1ab"
      },
      "execution_count": null,
      "outputs": [
        {
          "output_type": "stream",
          "name": "stdout",
          "text": [
            "hello india namaste india\n"
          ]
        }
      ]
    },
    {
      "cell_type": "code",
      "source": [
        "print('hello india','namaste india','05','10','0.5')"
      ],
      "metadata": {
        "colab": {
          "base_uri": "https://localhost:8080/"
        },
        "id": "vaUVjHOromZ1",
        "outputId": "d31df60c-707f-4fe5-b741-3a637b744716"
      },
      "execution_count": null,
      "outputs": [
        {
          "output_type": "stream",
          "name": "stdout",
          "text": [
            "hello india namaste india 05 10 0.5\n"
          ]
        }
      ]
    },
    {
      "cell_type": "code",
      "source": [
        "a=['1,2,3,4,namaste,india,hello']\n",
        "print(a)"
      ],
      "metadata": {
        "colab": {
          "base_uri": "https://localhost:8080/"
        },
        "id": "TKlfr45ooxCa",
        "outputId": "e338b8ea-88bd-4b06-ccf3-8c40b01134ce"
      },
      "execution_count": null,
      "outputs": [
        {
          "output_type": "stream",
          "name": "stdout",
          "text": [
            "['1,2,3,4,namaste,india,hello']\n"
          ]
        }
      ]
    },
    {
      "cell_type": "code",
      "source": [
        "a=10 #lecture  2\n",
        "print(a)"
      ],
      "metadata": {
        "colab": {
          "base_uri": "https://localhost:8080/"
        },
        "id": "pYw116TLpBBt",
        "outputId": "c5d7382b-957d-40ff-fdfc-b378d83a2906"
      },
      "execution_count": null,
      "outputs": [
        {
          "output_type": "stream",
          "name": "stdout",
          "text": [
            "10\n"
          ]
        }
      ]
    },
    {
      "cell_type": "code",
      "source": [
        "b=2\n",
        "print(b)"
      ],
      "metadata": {
        "colab": {
          "base_uri": "https://localhost:8080/"
        },
        "id": "sXT_gEXepWlb",
        "outputId": "2534d6b0-a1ab-4045-e5c2-e05a12bf4182"
      },
      "execution_count": null,
      "outputs": [
        {
          "output_type": "stream",
          "name": "stdout",
          "text": [
            "2\n"
          ]
        }
      ]
    },
    {
      "cell_type": "code",
      "source": [
        "print(a+b)"
      ],
      "metadata": {
        "colab": {
          "base_uri": "https://localhost:8080/"
        },
        "id": "sVGHiKLWpa4-",
        "outputId": "41af81c5-12df-4dd5-e6b6-2dc124b75af4"
      },
      "execution_count": null,
      "outputs": [
        {
          "output_type": "stream",
          "name": "stdout",
          "text": [
            "12\n"
          ]
        }
      ]
    },
    {
      "cell_type": "code",
      "source": [
        "print(a*b)"
      ],
      "metadata": {
        "colab": {
          "base_uri": "https://localhost:8080/"
        },
        "id": "WUnf9srepdwF",
        "outputId": "a44657bf-1a0e-4bf7-86f7-f5eb486db372"
      },
      "execution_count": null,
      "outputs": [
        {
          "output_type": "stream",
          "name": "stdout",
          "text": [
            "20\n"
          ]
        }
      ]
    },
    {
      "cell_type": "code",
      "source": [
        "a=12\n",
        "print(a)"
      ],
      "metadata": {
        "colab": {
          "base_uri": "https://localhost:8080/"
        },
        "id": "txcyNsCepjUj",
        "outputId": "f2a7beea-6625-4b45-d0cf-3ba0b08d5748"
      },
      "execution_count": null,
      "outputs": [
        {
          "output_type": "stream",
          "name": "stdout",
          "text": [
            "12\n"
          ]
        }
      ]
    },
    {
      "cell_type": "code",
      "source": [
        "a=a+2\n",
        "print(a)"
      ],
      "metadata": {
        "colab": {
          "base_uri": "https://localhost:8080/"
        },
        "id": "yPw4tC6zppor",
        "outputId": "ec74cc9e-ecc3-48de-e859-9ea0b528c7d8"
      },
      "execution_count": null,
      "outputs": [
        {
          "output_type": "stream",
          "name": "stdout",
          "text": [
            "14\n"
          ]
        }
      ]
    },
    {
      "cell_type": "code",
      "source": [
        "print(a)"
      ],
      "metadata": {
        "colab": {
          "base_uri": "https://localhost:8080/"
        },
        "id": "-m22nUhbp3Qy",
        "outputId": "23cf4d2f-8471-4ae7-ba70-3c5a82d852c5"
      },
      "execution_count": null,
      "outputs": [
        {
          "output_type": "stream",
          "name": "stdout",
          "text": [
            "14\n"
          ]
        }
      ]
    },
    {
      "cell_type": "code",
      "source": [
        "print(\"enter a number\")\n",
        "n=int(input())"
      ],
      "metadata": {
        "colab": {
          "base_uri": "https://localhost:8080/"
        },
        "id": "yWKRFpiqqRCo",
        "outputId": "49e7e0ef-a89e-4ed1-b081-e6cf0e556ab9"
      },
      "execution_count": null,
      "outputs": [
        {
          "name": "stdout",
          "output_type": "stream",
          "text": [
            "enter a number\n",
            "12\n"
          ]
        }
      ]
    },
    {
      "cell_type": "code",
      "source": [
        "print(n)"
      ],
      "metadata": {
        "colab": {
          "base_uri": "https://localhost:8080/"
        },
        "id": "RTC0fi0Hqcyz",
        "outputId": "d2a71eae-a324-49ef-f99b-a31824097e49"
      },
      "execution_count": null,
      "outputs": [
        {
          "output_type": "stream",
          "name": "stdout",
          "text": [
            "12\n"
          ]
        }
      ]
    },
    {
      "cell_type": "code",
      "source": [
        "print(n+1)"
      ],
      "metadata": {
        "colab": {
          "base_uri": "https://localhost:8080/"
        },
        "id": "LP3XwHBZqhgg",
        "outputId": "06b117da-ef8f-47b2-9c36-8539c4c4dfa2"
      },
      "execution_count": null,
      "outputs": [
        {
          "output_type": "stream",
          "name": "stdout",
          "text": [
            "13\n"
          ]
        }
      ]
    },
    {
      "cell_type": "code",
      "source": [
        "print(n+2)"
      ],
      "metadata": {
        "colab": {
          "base_uri": "https://localhost:8080/"
        },
        "id": "Rcabs55kqlA6",
        "outputId": "c0db0be5-2f63-411e-bf12-054b7720f293"
      },
      "execution_count": null,
      "outputs": [
        {
          "output_type": "stream",
          "name": "stdout",
          "text": [
            "14\n"
          ]
        }
      ]
    },
    {
      "cell_type": "code",
      "source": [
        "#lecture 3 varibles and int statements\n"
      ],
      "metadata": {
        "id": "LHG81BNeqnYY"
      },
      "execution_count": null,
      "outputs": []
    },
    {
      "cell_type": "code",
      "source": [
        "print(\"hello, type your name.\")\n",
        "n=str(input())"
      ],
      "metadata": {
        "colab": {
          "base_uri": "https://localhost:8080/"
        },
        "id": "Ajuyo3Vlqs3X",
        "outputId": "8ddfcc60-14e7-4c38-c0ab-85bfeb0e0b23"
      },
      "execution_count": null,
      "outputs": [
        {
          "name": "stdout",
          "output_type": "stream",
          "text": [
            "hello, type your name.\n",
            "Arif\n"
          ]
        }
      ]
    },
    {
      "cell_type": "code",
      "source": [
        "print(n)"
      ],
      "metadata": {
        "colab": {
          "base_uri": "https://localhost:8080/"
        },
        "id": "w6nI5lzrq_O2",
        "outputId": "a53478b7-90c8-4907-bd87-135038b97411"
      },
      "execution_count": null,
      "outputs": [
        {
          "output_type": "stream",
          "name": "stdout",
          "text": [
            "Arif\n"
          ]
        }
      ]
    },
    {
      "cell_type": "code",
      "source": [
        "print('hello',n,\"how are you?\")"
      ],
      "metadata": {
        "colab": {
          "base_uri": "https://localhost:8080/"
        },
        "id": "6eb5V4RVrCEk",
        "outputId": "e79d4afe-6f69-4ce4-daaa-7d1fce4c85ee"
      },
      "execution_count": null,
      "outputs": [
        {
          "output_type": "stream",
          "name": "stdout",
          "text": [
            "hello Arif how are you?\n"
          ]
        }
      ]
    },
    {
      "cell_type": "code",
      "source": [
        "print(\"which place are you in\")\n",
        "p=str(input())"
      ],
      "metadata": {
        "colab": {
          "base_uri": "https://localhost:8080/"
        },
        "id": "tPopTQYSrLaH",
        "outputId": "64901c17-7917-41bb-e349-b01f40f3927a"
      },
      "execution_count": null,
      "outputs": [
        {
          "name": "stdout",
          "output_type": "stream",
          "text": [
            "which place are you in\n",
            "Kashmir\n"
          ]
        }
      ]
    },
    {
      "cell_type": "code",
      "source": [
        "print(\"which place are you in\")\n",
        "p=str(input())"
      ],
      "metadata": {
        "colab": {
          "base_uri": "https://localhost:8080/"
        },
        "id": "ACvogkmYrlda",
        "outputId": "4f95fc1d-582d-48c5-c017-d55894561ae1"
      },
      "execution_count": null,
      "outputs": [
        {
          "name": "stdout",
          "output_type": "stream",
          "text": [
            "which place are you in\n",
            "Kashmir\n"
          ]
        }
      ]
    },
    {
      "cell_type": "code",
      "source": [
        "print(\"hello\",p,\"how is the weather\")"
      ],
      "metadata": {
        "colab": {
          "base_uri": "https://localhost:8080/"
        },
        "id": "ff2_B-a3r1Dn",
        "outputId": "2aa31292-cf84-40b6-8c24-44c94b2cdbc7"
      },
      "execution_count": null,
      "outputs": [
        {
          "output_type": "stream",
          "name": "stdout",
          "text": [
            "hello Kashmir how is the weather\n"
          ]
        }
      ]
    },
    {
      "cell_type": "code",
      "source": [
        "print('hello',\"how is the weather in\",p)"
      ],
      "metadata": {
        "colab": {
          "base_uri": "https://localhost:8080/"
        },
        "id": "ortwzONusLkM",
        "outputId": "f3b324e7-ec75-494e-bf13-c2651450eae4"
      },
      "execution_count": null,
      "outputs": [
        {
          "output_type": "stream",
          "name": "stdout",
          "text": [
            "hello how is the weather in Kashmir\n"
          ]
        }
      ]
    },
    {
      "cell_type": "code",
      "source": [
        "print('how is covid situation at mumbai')\n",
        "p=str(input())\n"
      ],
      "metadata": {
        "colab": {
          "base_uri": "https://localhost:8080/"
        },
        "id": "iHZRdUuxscWp",
        "outputId": "6b6a13a8-403f-464b-fc5b-b45d604ed413"
      },
      "execution_count": null,
      "outputs": [
        {
          "name": "stdout",
          "output_type": "stream",
          "text": [
            "how is covid situation at mumbai\n",
            "Its good\n"
          ]
        }
      ]
    },
    {
      "cell_type": "code",
      "source": [
        "print('whats you name')\n",
        "n=str(input())"
      ],
      "metadata": {
        "colab": {
          "base_uri": "https://localhost:8080/"
        },
        "id": "GaPPB3yGs8XV",
        "outputId": "93f8ea3d-753b-4433-b855-c4183e9b00c0"
      },
      "execution_count": null,
      "outputs": [
        {
          "name": "stdout",
          "output_type": "stream",
          "text": [
            "whats you name\n",
            "Arif\n"
          ]
        }
      ]
    },
    {
      "cell_type": "code",
      "source": [
        "print('hello',n,\"how is covid situation at mumbai\",p,\"?\")"
      ],
      "metadata": {
        "colab": {
          "base_uri": "https://localhost:8080/"
        },
        "id": "nbR4bsI1suD6",
        "outputId": "9947979e-0216-4a0b-9107-8352d550ac2f"
      },
      "execution_count": null,
      "outputs": [
        {
          "output_type": "stream",
          "name": "stdout",
          "text": [
            "hello Arif how is covid situation at mumbai Its good ?\n"
          ]
        }
      ]
    },
    {
      "cell_type": "code",
      "source": [
        "print('whats your age?')\n",
        "print=int(input())\n"
      ],
      "metadata": {
        "colab": {
          "base_uri": "https://localhost:8080/"
        },
        "id": "oiVLlsb4tW0Q",
        "outputId": "65739b08-367a-4315-96fa-1ddd92672cff"
      },
      "execution_count": null,
      "outputs": [
        {
          "name": "stdout",
          "output_type": "stream",
          "text": [
            "whats your age?\n",
            "19\n"
          ]
        }
      ]
    },
    {
      "cell_type": "code",
      "source": [
        "print(\"How old are you?\")\n",
        "age=int(input())"
      ],
      "metadata": {
        "id": "1drXRgdttQTi",
        "colab": {
          "base_uri": "https://localhost:8080/"
        },
        "outputId": "759f86f2-58fb-44c0-fb75-9a7cf61e1a19"
      },
      "execution_count": null,
      "outputs": [
        {
          "name": "stdout",
          "output_type": "stream",
          "text": [
            "How old are you?\n",
            "17\n"
          ]
        }
      ]
    },
    {
      "cell_type": "code",
      "source": [
        "print(\"good to know you are\",age,\"years old\") #here age is variable here "
      ],
      "metadata": {
        "colab": {
          "base_uri": "https://localhost:8080/"
        },
        "id": "GdTQVpNuGjNM",
        "outputId": "5b5afca1-7f50-41ea-d121-40235de0e233"
      },
      "execution_count": null,
      "outputs": [
        {
          "output_type": "stream",
          "name": "stdout",
          "text": [
            "good to know you are 17 years old\n"
          ]
        }
      ]
    },
    {
      "cell_type": "code",
      "source": [
        "#lecture 3rd variables and literals "
      ],
      "metadata": {
        "id": "Ui4lPL_oLYG9"
      },
      "execution_count": null,
      "outputs": []
    },
    {
      "cell_type": "code",
      "source": [
        "print('whats your name')\n",
        "n=str(input())\n",
        "print('type your location')\n",
        "p=str(input())\n",
        "print('hello','how is the weather in',p,'?')\n",
        "print(\"what is your age\")\n",
        "k=int(input())\n",
        "print('good to know that you are',k,'years old')"
      ],
      "metadata": {
        "colab": {
          "base_uri": "https://localhost:8080/"
        },
        "id": "CUDy8NaALle4",
        "outputId": "e9f881c3-83e4-4e41-910c-0547628cd3bb"
      },
      "execution_count": null,
      "outputs": [
        {
          "output_type": "stream",
          "name": "stdout",
          "text": [
            "whats your name\n",
            "Arif\n",
            "type your location\n",
            "Kashmir\n",
            "hello how is the weather in Kashmir ?\n",
            "what is your age\n",
            "17\n",
            "good to know that you are 17 years old\n"
          ]
        }
      ]
    },
    {
      "cell_type": "code",
      "source": [
        "print(\"hello\",n,k,'how is the weather in',p)"
      ],
      "metadata": {
        "colab": {
          "base_uri": "https://localhost:8080/"
        },
        "id": "CNx2csY0NEFm",
        "outputId": "324f8eb0-4116-427f-f470-4540deb6224e"
      },
      "execution_count": null,
      "outputs": [
        {
          "output_type": "stream",
          "name": "stdout",
          "text": [
            "hello Arif 17 how is the weather in Kashmir\n"
          ]
        }
      ]
    },
    {
      "cell_type": "code",
      "source": [
        "print('hello',n,'how old are you','how is you')"
      ],
      "metadata": {
        "colab": {
          "base_uri": "https://localhost:8080/"
        },
        "id": "n__Ncxb1KvlQ",
        "outputId": "92090e1b-b0a2-42c9-d47f-07e468113a07"
      },
      "execution_count": null,
      "outputs": [
        {
          "output_type": "stream",
          "name": "stdout",
          "text": [
            "hello 17 how old are you how is you\n"
          ]
        }
      ]
    },
    {
      "cell_type": "code",
      "source": [
        "name='arif'\n",
        "name='bin'\n",
        "age=40\n",
        "age=12\n",
        "print(age+1)\n"
      ],
      "metadata": {
        "colab": {
          "base_uri": "https://localhost:8080/"
        },
        "id": "cm6CJixcPyYj",
        "outputId": "a475e395-704f-4ac7-a479-412d672926c9"
      },
      "execution_count": null,
      "outputs": [
        {
          "output_type": "stream",
          "name": "stdout",
          "text": [
            "13\n"
          ]
        }
      ]
    },
    {
      "cell_type": "code",
      "source": [
        "r=int(input('Enter the radius of circle:')) #we use r as a variable \n",
        "area=3.14 *r*r #value of pi doesnt changes as it considered to be as literal\n",
        "print('area of the circle with radius',r,'is',area)  #area as a variable "
      ],
      "metadata": {
        "colab": {
          "base_uri": "https://localhost:8080/"
        },
        "id": "6FGZwy8xQj_P",
        "outputId": "926625a1-f196-427b-bf2d-b143246b5391"
      },
      "execution_count": null,
      "outputs": [
        {
          "output_type": "stream",
          "name": "stdout",
          "text": [
            "Enter the radius of circle:12\n",
            "area of the circle with radius 12 is 452.15999999999997\n"
          ]
        }
      ]
    },
    {
      "cell_type": "code",
      "source": [
        "print(area*area)"
      ],
      "metadata": {
        "id": "HRxZb9ApSvgb",
        "colab": {
          "base_uri": "https://localhost:8080/"
        },
        "outputId": "eb7897a1-4e94-4a48-d948-942df07c0fc0"
      },
      "execution_count": null,
      "outputs": [
        {
          "output_type": "stream",
          "name": "stdout",
          "text": [
            "204448.66559999998\n"
          ]
        }
      ]
    },
    {
      "cell_type": "code",
      "source": [
        "print(area+area)"
      ],
      "metadata": {
        "colab": {
          "base_uri": "https://localhost:8080/"
        },
        "id": "gOOBY8BjMTIb",
        "outputId": "e6f52198-ed9a-4133-d7e5-befafd312ff6"
      },
      "execution_count": null,
      "outputs": [
        {
          "output_type": "stream",
          "name": "stdout",
          "text": [
            "904.3199999999999\n"
          ]
        }
      ]
    },
    {
      "cell_type": "code",
      "source": [
        "lecture 4  #data types 1\n"
      ],
      "metadata": {
        "id": "CuGz4XazTFoN"
      },
      "execution_count": null,
      "outputs": []
    },
    {
      "cell_type": "code",
      "source": [
        "n=10\n",
        "print(n)\n",
        "type(n)"
      ],
      "metadata": {
        "id": "tFJbE2A2YYiW",
        "colab": {
          "base_uri": "https://localhost:8080/"
        },
        "outputId": "f41149e2-a1a8-4f0a-d92a-d0020e88075d"
      },
      "execution_count": null,
      "outputs": [
        {
          "output_type": "stream",
          "name": "stdout",
          "text": [
            "10\n"
          ]
        },
        {
          "output_type": "execute_result",
          "data": {
            "text/plain": [
              "int"
            ]
          },
          "metadata": {},
          "execution_count": 42
        }
      ]
    },
    {
      "cell_type": "code",
      "source": [
        "r=6.4\n",
        "print(r)\n",
        "type(r)"
      ],
      "metadata": {
        "colab": {
          "base_uri": "https://localhost:8080/"
        },
        "id": "pHPnyQWZNaO6",
        "outputId": "f54e8bfa-9604-4317-ded9-d3bd53faaf06"
      },
      "execution_count": null,
      "outputs": [
        {
          "output_type": "stream",
          "name": "stdout",
          "text": [
            "6.4\n"
          ]
        },
        {
          "output_type": "execute_result",
          "data": {
            "text/plain": [
              "float"
            ]
          },
          "metadata": {},
          "execution_count": 43
        }
      ]
    },
    {
      "cell_type": "code",
      "source": [
        "s='arif'\n",
        "print(s)\n",
        "type(s)"
      ],
      "metadata": {
        "colab": {
          "base_uri": "https://localhost:8080/"
        },
        "id": "RaQS519DNk-x",
        "outputId": "4136c7ae-ba17-441c-97e9-37924d8b1961"
      },
      "execution_count": null,
      "outputs": [
        {
          "output_type": "stream",
          "name": "stdout",
          "text": [
            "arif\n"
          ]
        },
        {
          "output_type": "execute_result",
          "data": {
            "text/plain": [
              "str"
            ]
          },
          "metadata": {},
          "execution_count": 45
        }
      ]
    },
    {
      "cell_type": "code",
      "source": [
        "print(n,r,s)"
      ],
      "metadata": {
        "colab": {
          "base_uri": "https://localhost:8080/"
        },
        "id": "61GgGbiLNsYD",
        "outputId": "3255a22d-bdbb-420c-f2b6-3ada791e46dc"
      },
      "execution_count": null,
      "outputs": [
        {
          "output_type": "stream",
          "name": "stdout",
          "text": [
            "10 6.4 arif\n"
          ]
        }
      ]
    },
    {
      "cell_type": "code",
      "source": [
        "print(type(n),type(r),type(s))"
      ],
      "metadata": {
        "colab": {
          "base_uri": "https://localhost:8080/"
        },
        "id": "4Hn7fTZ4OKed",
        "outputId": "254c9700-0a96-4a9f-b515-4a052ee6061c"
      },
      "execution_count": null,
      "outputs": [
        {
          "output_type": "stream",
          "name": "stdout",
          "text": [
            "<class 'int'> <class 'float'> <class 'str'>\n"
          ]
        }
      ]
    },
    {
      "cell_type": "code",
      "source": [
        "print(\"n is of type:\",type(n),'r is of type:',type(r),\"s is of type:\",type(s))"
      ],
      "metadata": {
        "colab": {
          "base_uri": "https://localhost:8080/"
        },
        "id": "cgVHx17TOZ3Q",
        "outputId": "948a8391-f261-4e20-b05c-223077777ce5"
      },
      "execution_count": null,
      "outputs": [
        {
          "output_type": "stream",
          "name": "stdout",
          "text": [
            "n is of type: <class 'int'> r is of type: <class 'float'> s is of type: <class 'str'>\n"
          ]
        }
      ]
    },
    {
      "cell_type": "code",
      "source": [
        "l=[10,20,30] #list and computer always starts with zero\n",
        "print(l[0])\n",
        "print(l[1])\n",
        "print(l[2])"
      ],
      "metadata": {
        "colab": {
          "base_uri": "https://localhost:8080/"
        },
        "id": "uLvNQ4EJTxml",
        "outputId": "e48eeee9-336a-43a2-cf68-fb8f04694605"
      },
      "execution_count": null,
      "outputs": [
        {
          "output_type": "stream",
          "name": "stdout",
          "text": [
            "10\n",
            "20\n",
            "30\n"
          ]
        }
      ]
    },
    {
      "cell_type": "code",
      "source": [
        "print(l[0],l[1],l[2])"
      ],
      "metadata": {
        "colab": {
          "base_uri": "https://localhost:8080/"
        },
        "id": "jQ6287HPU4q_",
        "outputId": "2533c788-52b4-4a68-9316-234910432563"
      },
      "execution_count": null,
      "outputs": [
        {
          "output_type": "stream",
          "name": "stdout",
          "text": [
            "10 20 30\n"
          ]
        }
      ]
    },
    {
      "cell_type": "code",
      "source": [
        "x=[1,2,3,4,5]\n",
        "x.append(7)\n",
        "print(x[1],x[2])\n",
        "type(x)"
      ],
      "metadata": {
        "colab": {
          "base_uri": "https://localhost:8080/"
        },
        "id": "CQU0wQ5rYISh",
        "outputId": "aa7579a1-326c-4363-e40e-f995973827ef"
      },
      "execution_count": null,
      "outputs": [
        {
          "output_type": "stream",
          "name": "stdout",
          "text": [
            "2 3\n"
          ]
        },
        {
          "output_type": "execute_result",
          "data": {
            "text/plain": [
              "list"
            ]
          },
          "metadata": {},
          "execution_count": 88
        }
      ]
    },
    {
      "cell_type": "code",
      "source": [
        "print(l[2])\n",
        "type(l[2])"
      ],
      "metadata": {
        "colab": {
          "base_uri": "https://localhost:8080/"
        },
        "id": "kUKITStmZEBZ",
        "outputId": "2f460d3a-0854-44ac-c7fb-bbcff97f63c4"
      },
      "execution_count": null,
      "outputs": [
        {
          "output_type": "stream",
          "name": "stdout",
          "text": [
            "30\n"
          ]
        },
        {
          "output_type": "execute_result",
          "data": {
            "text/plain": [
              "int"
            ]
          },
          "metadata": {},
          "execution_count": 90
        }
      ]
    },
    {
      "cell_type": "code",
      "source": [
        "#data type 2 "
      ],
      "metadata": {
        "id": "xqvfXSVBY7b8"
      },
      "execution_count": null,
      "outputs": []
    },
    {
      "cell_type": "code",
      "source": [
        "i=10\n",
        "f=5.6\n",
        "s='india'\n",
        "type(i),type(f),type(s)\n"
      ],
      "metadata": {
        "colab": {
          "base_uri": "https://localhost:8080/"
        },
        "id": "sOsccHWDZj9I",
        "outputId": "2513b852-7d4f-4463-f459-773e3d86c9c1"
      },
      "execution_count": null,
      "outputs": [
        {
          "output_type": "execute_result",
          "data": {
            "text/plain": [
              "(int, float, str)"
            ]
          },
          "metadata": {},
          "execution_count": 95
        }
      ]
    },
    {
      "cell_type": "code",
      "source": [
        "i=10\n",
        "f=5.6\n",
        "s='india'\n",
        "b1 =True\n",
        "b2 =False \n",
        "print(type(i))\n",
        "print(type(f))\n",
        "print(type(s))\n",
        "print(type(b1))\n",
        "print(type(b2))\n"
      ],
      "metadata": {
        "colab": {
          "base_uri": "https://localhost:8080/"
        },
        "id": "sI1vTQAmaGu6",
        "outputId": "33bcff3e-c537-4811-ebb6-9695a1bfbf1a"
      },
      "execution_count": null,
      "outputs": [
        {
          "output_type": "stream",
          "name": "stdout",
          "text": [
            "<class 'int'>\n",
            "<class 'float'>\n",
            "<class 'str'>\n",
            "<class 'bool'>\n",
            "<class 'bool'>\n"
          ]
        }
      ]
    },
    {
      "cell_type": "code",
      "source": [
        "a=int(5.7) #type conversion\n",
        "b=int(10)\n",
        "c=float(9)\n",
        "d=str(8)\n",
        "print(a,type(a))\n",
        "print(b,type(b))\n",
        "print(c,type(c))\n",
        "print(d,type(d))"
      ],
      "metadata": {
        "colab": {
          "base_uri": "https://localhost:8080/"
        },
        "id": "b_K77V59doRM",
        "outputId": "289d66c7-fd3b-4a6d-84ae-655b515411d0"
      },
      "execution_count": null,
      "outputs": [
        {
          "output_type": "stream",
          "name": "stdout",
          "text": [
            "5 <class 'int'>\n",
            "10 <class 'int'>\n",
            "9.0 <class 'float'>\n",
            "8 <class 'str'>\n"
          ]
        }
      ]
    },
    {
      "cell_type": "code",
      "source": [
        "a=bool(10) \n",
        "b=bool(0) zero is the only value which gives false \n",
        "c=bool(-10)\n",
        "print(a,type(a))\n",
        "print(b,type(b))\n",
        "print(c,type(c))"
      ],
      "metadata": {
        "colab": {
          "base_uri": "https://localhost:8080/"
        },
        "id": "nKY4mgm9e0Hy",
        "outputId": "34c3fad5-2939-402b-ff27-72e8971ed9d4"
      },
      "execution_count": null,
      "outputs": [
        {
          "output_type": "stream",
          "name": "stdout",
          "text": [
            "True <class 'bool'>\n",
            "False <class 'bool'>\n",
            "True <class 'bool'>\n"
          ]
        }
      ]
    },
    {
      "cell_type": "code",
      "source": [
        "a=bool(10.5)\n",
        "b=bool(0.0)\n",
        "c=bool(-10.4)\n",
        "print(a,type(a))\n",
        "print(b,type(b))\n",
        "print(c,type(c))"
      ],
      "metadata": {
        "colab": {
          "base_uri": "https://localhost:8080/"
        },
        "id": "2IhaUQjxf7J5",
        "outputId": "669bcdc5-8b40-4206-f500-ccda000e2a32"
      },
      "execution_count": null,
      "outputs": [
        {
          "output_type": "stream",
          "name": "stdout",
          "text": [
            "True <class 'bool'>\n",
            "False <class 'bool'>\n",
            "True <class 'bool'>\n"
          ]
        }
      ]
    },
    {
      "cell_type": "code",
      "source": [
        "a=bool('india')\n",
        "b=bool('10')\n",
        "c=bool('-10.4')\n",
        "d=bool('0') #because neither int nor float but a string and string representation for zero is true\n",
        "e=bool('') #for empty str and bolean conversion of empty str in false\n",
        "print(a,type(a))\n",
        "print(b,type(b))\n",
        "print(c,type(c))\n",
        "print(d,type(d))\n",
        "print(e,type(e))"
      ],
      "metadata": {
        "colab": {
          "base_uri": "https://localhost:8080/"
        },
        "id": "NG9R46SJgVqB",
        "outputId": "c6b59d7c-8149-48ea-def1-3484cf81907e"
      },
      "execution_count": null,
      "outputs": [
        {
          "output_type": "stream",
          "name": "stdout",
          "text": [
            "True <class 'bool'>\n",
            "True <class 'bool'>\n",
            "True <class 'bool'>\n",
            "True <class 'bool'>\n",
            "False <class 'bool'>\n"
          ]
        }
      ]
    },
    {
      "cell_type": "code",
      "source": [
        "n=3+2\n",
        "print(n\n",
        "      )"
      ],
      "metadata": {
        "colab": {
          "base_uri": "https://localhost:8080/"
        },
        "id": "6ZjPktpOJoa5",
        "outputId": "272a1a70-59da-4b0d-84a2-4de72f535143"
      },
      "execution_count": null,
      "outputs": [
        {
          "output_type": "stream",
          "name": "stdout",
          "text": [
            "5\n"
          ]
        }
      ]
    },
    {
      "cell_type": "code",
      "source": [
        "n=3*6.2\n",
        "print(n)"
      ],
      "metadata": {
        "colab": {
          "base_uri": "https://localhost:8080/"
        },
        "id": "UBpN1AEUOcm4",
        "outputId": "1c708774-4e38-4740-a9ac-98a90cb9fdbd"
      },
      "execution_count": null,
      "outputs": [
        {
          "output_type": "stream",
          "name": "stdout",
          "text": [
            "18.6\n"
          ]
        }
      ]
    },
    {
      "cell_type": "code",
      "source": [
        "a=1\n",
        "b=3\n",
        "print(a+b\n",
        "      )"
      ],
      "metadata": {
        "colab": {
          "base_uri": "https://localhost:8080/"
        },
        "id": "OJkYTLkKOiPh",
        "outputId": "58da1172-8f22-41ad-afac-0b7cb4ff6a50"
      },
      "execution_count": null,
      "outputs": [
        {
          "output_type": "stream",
          "name": "stdout",
          "text": [
            "4\n"
          ]
        }
      ]
    },
    {
      "cell_type": "code",
      "source": [
        "a='arif'\n",
        "b='kupwara'\n",
        "print(a+b)"
      ],
      "metadata": {
        "colab": {
          "base_uri": "https://localhost:8080/"
        },
        "id": "p30H-C1bOsrQ",
        "outputId": "283bd64e-dfb2-4d79-c1f0-36637ef4a550"
      },
      "execution_count": null,
      "outputs": [
        {
          "output_type": "stream",
          "name": "stdout",
          "text": [
            "arifkupwara\n"
          ]
        }
      ]
    },
    {
      "cell_type": "code",
      "source": [
        "a=12\n",
        "b=13\n",
        "print(a/b)"
      ],
      "metadata": {
        "colab": {
          "base_uri": "https://localhost:8080/"
        },
        "id": "tLBaSCJJPmKP",
        "outputId": "052c0b1c-4037-4d4e-b0dc-7d74463190a0"
      },
      "execution_count": null,
      "outputs": [
        {
          "output_type": "stream",
          "name": "stdout",
          "text": [
            "0.9230769230769231\n"
          ]
        }
      ]
    },
    {
      "cell_type": "code",
      "source": [
        "n=10+13*8\n",
        "print(n)"
      ],
      "metadata": {
        "colab": {
          "base_uri": "https://localhost:8080/"
        },
        "id": "1Mz39jTwQUgi",
        "outputId": "9f911490-6e18-4424-8d91-dd3253b0e094"
      },
      "execution_count": null,
      "outputs": [
        {
          "output_type": "stream",
          "name": "stdout",
          "text": [
            "114\n"
          ]
        }
      ]
    },
    {
      "cell_type": "code",
      "source": [
        "#arithmetic operators (+,-,*,/,//,%,**)\n"
      ],
      "metadata": {
        "id": "iN9fS5eOQmTf"
      },
      "execution_count": null,
      "outputs": []
    },
    {
      "cell_type": "code",
      "source": [
        "print('addition',2+3)\n",
        "print('subtraction',9-2)\n",
        "print('multiplication',2*3)\n",
        "print('division',7/3)\n",
        "print('floor division',7//3) #it gives integer value only"
      ],
      "metadata": {
        "colab": {
          "base_uri": "https://localhost:8080/"
        },
        "id": "mGMMRtdARytR",
        "outputId": "f2025e65-b105-4235-c1eb-d61e4713a40a"
      },
      "execution_count": null,
      "outputs": [
        {
          "output_type": "stream",
          "name": "stdout",
          "text": [
            "addition 5\n",
            "subtraction 7\n",
            "multiplication 6\n",
            "division 2.3333333333333335\n",
            "floor division 2\n"
          ]
        }
      ]
    },
    {
      "cell_type": "code",
      "source": [
        "print('modulus',7%3)"
      ],
      "metadata": {
        "colab": {
          "base_uri": "https://localhost:8080/"
        },
        "id": "VBInzBMfSKAN",
        "outputId": "fa51aebb-5a47-4d14-91e1-99c102b93883"
      },
      "execution_count": null,
      "outputs": [
        {
          "output_type": "stream",
          "name": "stdout",
          "text": [
            "modulus 1\n"
          ]
        }
      ]
    },
    {
      "cell_type": "code",
      "source": [
        "print('exponential',6**2)"
      ],
      "metadata": {
        "colab": {
          "base_uri": "https://localhost:8080/"
        },
        "id": "mCVZSfIgS6kO",
        "outputId": "a8c64351-27af-4bfa-fb3c-bc7e87dfd43a"
      },
      "execution_count": null,
      "outputs": [
        {
          "output_type": "stream",
          "name": "stdout",
          "text": [
            "exponential 36\n"
          ]
        }
      ]
    },
    {
      "cell_type": "code",
      "source": [
        "#relational operators(<,>,<=,>=,!=)"
      ],
      "metadata": {
        "id": "SOVBGeaiTEm1"
      },
      "execution_count": null,
      "outputs": []
    },
    {
      "cell_type": "code",
      "source": [
        "print(12>2)"
      ],
      "metadata": {
        "colab": {
          "base_uri": "https://localhost:8080/"
        },
        "id": "ysQ4q_ORTS-X",
        "outputId": "0e0193fc-41e7-49c1-d609-b17033e217db"
      },
      "execution_count": null,
      "outputs": [
        {
          "output_type": "stream",
          "name": "stdout",
          "text": [
            "True\n"
          ]
        }
      ]
    },
    {
      "cell_type": "code",
      "source": [
        "print(10<=10)\n",
        "print(10<2)\n",
        "print(1>10)"
      ],
      "metadata": {
        "colab": {
          "base_uri": "https://localhost:8080/"
        },
        "id": "Gno7IxzITika",
        "outputId": "372adc8d-8731-4505-dd98-9ac9ba6fa8bd"
      },
      "execution_count": null,
      "outputs": [
        {
          "output_type": "stream",
          "name": "stdout",
          "text": [
            "True\n",
            "False\n",
            "False\n"
          ]
        }
      ]
    },
    {
      "cell_type": "code",
      "source": [
        "print(50!=7)"
      ],
      "metadata": {
        "colab": {
          "base_uri": "https://localhost:8080/"
        },
        "id": "FC03pCkkUJsY",
        "outputId": "153b688e-e618-4c29-842d-72e5979f8dfe"
      },
      "execution_count": null,
      "outputs": [
        {
          "output_type": "stream",
          "name": "stdout",
          "text": [
            "True\n"
          ]
        }
      ]
    },
    {
      "cell_type": "code",
      "source": [
        "#logical operators "
      ],
      "metadata": {
        "id": "Pa6_-u3nVARr"
      },
      "execution_count": null,
      "outputs": []
    },
    {
      "cell_type": "code",
      "source": [
        "#and or not\n"
      ],
      "metadata": {
        "id": "PyOxIAKHVMKm"
      },
      "execution_count": null,
      "outputs": []
    },
    {
      "cell_type": "code",
      "source": [
        "print(False and True)\n",
        "print(False and False)\n",
        "print(True and False)\n",
        "print(True and True)"
      ],
      "metadata": {
        "colab": {
          "base_uri": "https://localhost:8080/"
        },
        "id": "rIdGHXvTVW2z",
        "outputId": "a8bd502d-2bbc-4671-94d2-1cc927445ea7"
      },
      "execution_count": null,
      "outputs": [
        {
          "output_type": "stream",
          "name": "stdout",
          "text": [
            "False\n",
            "False\n",
            "False\n",
            "True\n"
          ]
        }
      ]
    },
    {
      "cell_type": "code",
      "source": [
        "print(True or False)\n",
        "print(False or True)\n",
        "print(False or False)\n",
        "print(True or True)"
      ],
      "metadata": {
        "colab": {
          "base_uri": "https://localhost:8080/"
        },
        "id": "UxWBpJnAVkCo",
        "outputId": "52d43020-e553-4305-9a26-da780d6f77aa"
      },
      "execution_count": null,
      "outputs": [
        {
          "output_type": "stream",
          "name": "stdout",
          "text": [
            "True\n",
            "True\n",
            "False\n",
            "True\n"
          ]
        }
      ]
    },
    {
      "cell_type": "code",
      "source": [
        "print(not(True))"
      ],
      "metadata": {
        "colab": {
          "base_uri": "https://localhost:8080/"
        },
        "id": "NGded5sZWgfl",
        "outputId": "b9d3281a-e901-41ca-967a-e3ba18e5cf53"
      },
      "execution_count": null,
      "outputs": [
        {
          "output_type": "stream",
          "name": "stdout",
          "text": [
            "False\n"
          ]
        }
      ]
    },
    {
      "cell_type": "code",
      "source": [
        "print(not False)"
      ],
      "metadata": {
        "colab": {
          "base_uri": "https://localhost:8080/"
        },
        "id": "FuHds3rdWxT0",
        "outputId": "d00ea359-155f-442f-994f-2aa992727168"
      },
      "execution_count": null,
      "outputs": [
        {
          "output_type": "stream",
          "name": "stdout",
          "text": [
            "True\n"
          ]
        }
      ]
    },
    {
      "cell_type": "code",
      "source": [
        "#strings \n"
      ],
      "metadata": {
        "id": "nrlqNRghXFzf"
      },
      "execution_count": null,
      "outputs": []
    },
    {
      "cell_type": "code",
      "source": [
        "s='coffee'\n",
        "t='bread'\n",
        "print(s)\n",
        "print(t)\n",
        "print(s+t)"
      ],
      "metadata": {
        "colab": {
          "base_uri": "https://localhost:8080/"
        },
        "id": "x55Io1IcJ5Zd",
        "outputId": "e4613d21-e7ab-4c44-cf67-d4da92f88a73"
      },
      "execution_count": null,
      "outputs": [
        {
          "output_type": "stream",
          "name": "stdout",
          "text": [
            "coffee\n",
            "bread\n",
            "coffeebread\n"
          ]
        }
      ]
    },
    {
      "cell_type": "code",
      "source": [
        "print(s[0])\n",
        "print(s[1])\n",
        "print(s[2])\n",
        "print(s[3])\n",
        "print(s[4])\n",
        "print(s[5])"
      ],
      "metadata": {
        "colab": {
          "base_uri": "https://localhost:8080/"
        },
        "id": "ZcElbjppKC-Z",
        "outputId": "75ef31d9-e644-4cb0-a625-92143536f562"
      },
      "execution_count": null,
      "outputs": [
        {
          "output_type": "stream",
          "name": "stdout",
          "text": [
            "c\n",
            "o\n",
            "f\n",
            "f\n",
            "e\n",
            "e\n"
          ]
        }
      ]
    },
    {
      "cell_type": "code",
      "source": [
        "print(s[4],t[1])"
      ],
      "metadata": {
        "colab": {
          "base_uri": "https://localhost:8080/"
        },
        "id": "-ZkzCBT-KvNo",
        "outputId": "6d0ef75a-22a3-41b8-db31-f927aa6faff1"
      },
      "execution_count": null,
      "outputs": [
        {
          "output_type": "stream",
          "name": "stdout",
          "text": [
            "e r\n"
          ]
        }
      ]
    },
    {
      "cell_type": "code",
      "source": [
        "print(s[3],t[3],t[1],s[2])"
      ],
      "metadata": {
        "colab": {
          "base_uri": "https://localhost:8080/"
        },
        "id": "v0MCiXC6LLpw",
        "outputId": "847a0217-0ab8-4114-eacc-751198f05e46"
      },
      "execution_count": null,
      "outputs": [
        {
          "output_type": "stream",
          "name": "stdout",
          "text": [
            "f a r f\n"
          ]
        }
      ]
    },
    {
      "cell_type": "code",
      "source": [
        "print(s[1:3])"
      ],
      "metadata": {
        "colab": {
          "base_uri": "https://localhost:8080/"
        },
        "id": "8lgM_ng3LXWZ",
        "outputId": "15015393-b096-45db-ace9-11202d16493a"
      },
      "execution_count": null,
      "outputs": [
        {
          "output_type": "stream",
          "name": "stdout",
          "text": [
            "of\n"
          ]
        }
      ]
    },
    {
      "cell_type": "code",
      "source": [
        "print(s[1:])"
      ],
      "metadata": {
        "colab": {
          "base_uri": "https://localhost:8080/"
        },
        "id": "hng9nj7GLg0d",
        "outputId": "1d592ef2-5ba0-4537-a313-926a1bccefcd"
      },
      "execution_count": null,
      "outputs": [
        {
          "output_type": "stream",
          "name": "stdout",
          "text": [
            "offee\n"
          ]
        }
      ]
    },
    {
      "cell_type": "code",
      "source": [
        "print(s[1:2])"
      ],
      "metadata": {
        "colab": {
          "base_uri": "https://localhost:8080/"
        },
        "id": "dsjzwba0Ly0Q",
        "outputId": "aa15586a-da7b-4120-be12-b2c64d40b236"
      },
      "execution_count": null,
      "outputs": [
        {
          "output_type": "stream",
          "name": "stdout",
          "text": [
            "o\n"
          ]
        }
      ]
    },
    {
      "cell_type": "code",
      "source": [
        "s='0123456789'\n",
        "a=s[4]\n",
        "b=s[1]\n",
        "print(a)\n",
        "print(b)\n",
        "print(a+b) #if we have to get a+b = 5 we must make the above as integer"
      ],
      "metadata": {
        "colab": {
          "base_uri": "https://localhost:8080/"
        },
        "id": "wi-gfbtJMIvW",
        "outputId": "7d4145a2-d081-41a2-c03a-100a0a7dfec6"
      },
      "execution_count": null,
      "outputs": [
        {
          "output_type": "stream",
          "name": "stdout",
          "text": [
            "4\n",
            "1\n",
            "41\n"
          ]
        }
      ]
    },
    {
      "cell_type": "code",
      "source": [
        "a=int(s[4])\n",
        "b=int(s[1])\n",
        "print(a+b)"
      ],
      "metadata": {
        "colab": {
          "base_uri": "https://localhost:8080/"
        },
        "id": "qe0lXQu5MiBO",
        "outputId": "8dd9a681-9168-43dd-ce4d-9f7feda76387"
      },
      "execution_count": null,
      "outputs": [
        {
          "output_type": "stream",
          "name": "stdout",
          "text": [
            "5\n"
          ]
        }
      ]
    },
    {
      "cell_type": "code",
      "source": [
        "s='good'\n",
        "print(s*5)\n"
      ],
      "metadata": {
        "colab": {
          "base_uri": "https://localhost:8080/"
        },
        "id": "oVJeaT7zNfBN",
        "outputId": "e5a1c168-ed28-406b-e293-c66ebb576154"
      },
      "execution_count": null,
      "outputs": [
        {
          "output_type": "stream",
          "name": "stdout",
          "text": [
            "goodgoodgoodgoodgood\n"
          ]
        }
      ]
    },
    {
      "cell_type": "code",
      "source": [
        "print(s[0]*2)"
      ],
      "metadata": {
        "colab": {
          "base_uri": "https://localhost:8080/"
        },
        "id": "tBhSJjYhOUmK",
        "outputId": "eb223a68-b684-4f96-ae02-67c49d573745"
      },
      "execution_count": null,
      "outputs": [
        {
          "output_type": "stream",
          "name": "stdout",
          "text": [
            "gg\n"
          ]
        }
      ]
    },
    {
      "cell_type": "code",
      "source": [
        "print(s[2]*9)"
      ],
      "metadata": {
        "colab": {
          "base_uri": "https://localhost:8080/"
        },
        "id": "YtczLB5mOmwO",
        "outputId": "675e2db7-4267-48f4-9545-625d5ae00c10"
      },
      "execution_count": null,
      "outputs": [
        {
          "output_type": "stream",
          "name": "stdout",
          "text": [
            "ooooooooo\n"
          ]
        }
      ]
    },
    {
      "cell_type": "code",
      "source": [
        "x='india'\n",
        "print('x == india')\n",
        "print('x == India')"
      ],
      "metadata": {
        "colab": {
          "base_uri": "https://localhost:8080/"
        },
        "id": "tXugLZqvOurZ",
        "outputId": "005b1787-0e25-46d4-8dda-17220d4bd840"
      },
      "execution_count": null,
      "outputs": [
        {
          "output_type": "stream",
          "name": "stdout",
          "text": [
            "x == india\n",
            "x == India\n"
          ]
        }
      ]
    },
    {
      "cell_type": "code",
      "source": [
        "print('apple'> 'one')\n",
        "print('four'<'ten')\n"
      ],
      "metadata": {
        "colab": {
          "base_uri": "https://localhost:8080/"
        },
        "id": "lYaJOm27O-u2",
        "outputId": "09d1a9fb-0f2f-4cee-ab01-41818f19abb6"
      },
      "execution_count": null,
      "outputs": [
        {
          "output_type": "stream",
          "name": "stdout",
          "text": [
            "False\n",
            "True\n"
          ]
        }
      ]
    },
    {
      "cell_type": "code",
      "source": [
        "print('ab','az')\n",
        "print('abcdef'<'abcde')"
      ],
      "metadata": {
        "colab": {
          "base_uri": "https://localhost:8080/"
        },
        "id": "YO8RJ3cbPmlG",
        "outputId": "7c9b9910-b190-4280-8eb3-844a151f477d"
      },
      "execution_count": null,
      "outputs": [
        {
          "output_type": "stream",
          "name": "stdout",
          "text": [
            "ab az\n",
            "False\n"
          ]
        }
      ]
    },
    {
      "cell_type": "code",
      "source": [
        ""
      ],
      "metadata": {
        "id": "3rJ94DFSQd5X"
      },
      "execution_count": null,
      "outputs": []
    }
  ]
}