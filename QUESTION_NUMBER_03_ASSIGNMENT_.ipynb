{
  "nbformat": 4,
  "nbformat_minor": 0,
  "metadata": {
    "colab": {
      "name": "QUESTION NUMBER 03 ASSIGNMENT .ipynb",
      "provenance": [],
      "authorship_tag": "ABX9TyO6I+ngCO9lE1y7EA6oe9P2",
      "include_colab_link": true
    },
    "kernelspec": {
      "name": "python3",
      "display_name": "Python 3"
    },
    "language_info": {
      "name": "python"
    }
  },
  "cells": [
    {
      "cell_type": "markdown",
      "metadata": {
        "id": "view-in-github",
        "colab_type": "text"
      },
      "source": [
        "<a href=\"https://colab.research.google.com/github/Arifbinmushtaq/Arifbinmushtaq/blob/main/QUESTION_NUMBER_03_ASSIGNMENT_.ipynb\" target=\"_parent\"><img src=\"https://colab.research.google.com/assets/colab-badge.svg\" alt=\"Open In Colab\"/></a>"
      ]
    },
    {
      "cell_type": "code",
      "source": [
        "def main():\n",
        "    ch=int(input('Enter 1-length , 2=max of 3 strings,3=to print , 4=number of words='))\n",
        "    if ch==1:\n",
        "        n=input('Enter a string:')\n",
        "        l=len(n)\n",
        "        print('The length of the string is=',l)\n",
        "    elif ch==2:\n",
        "        n1=input('Enter string 1=')\n",
        "        n2=input('Enter string 2=')\n",
        "        n3=input('Enter string 3=')\n",
        "        print('The maximum of the 3 strings is=',max(n1,n2,n3))\n",
        "    elif ch==3:\n",
        "        a=input('Enter a string:')\n",
        "        s=''\n",
        "        a=list(a)\n",
        "        for i in range(len(a)):\n",
        "            if (i%2!=0):\n",
        "                if a[i]==' ':\n",
        "                    a[i]=' '\n",
        "                else:\n",
        "                    a[i]='#'\n",
        "        for e in a:\n",
        "            s=s+e\n",
        "        print('the new string=',s)    \n",
        "    elif ch==4:\n",
        "         b=input('Enter a string=')\n",
        "         c=0\n",
        "         for ch in b:\n",
        "            if ch==' ':\n",
        "                c+=1\n",
        "         a=c+1\n",
        "         print('The number of words:',a)\n",
        "    else:\n",
        "        print('invalid choice') \n",
        "if __name__=='__main__':\n",
        "    main()"
      ],
      "metadata": {
        "id": "RlgtlY8Kuagk",
        "colab": {
          "base_uri": "https://localhost:8080/"
        },
        "outputId": "1c69e558-bbca-472c-c668-93e31431239f"
      },
      "execution_count": null,
      "outputs": [
        {
          "output_type": "stream",
          "name": "stdout",
          "text": [
            "Enter 1-length , 2=max of 3 strings,3=to print , 4=number of words=6\n",
            "invalid choice\n"
          ]
        }
      ]
    },
    {
      "cell_type": "code",
      "source": [
        ""
      ],
      "metadata": {
        "id": "pIt9hHLKzu_K"
      },
      "execution_count": null,
      "outputs": []
    },
    {
      "cell_type": "code",
      "source": [
        ""
      ],
      "metadata": {
        "id": "DGNXBgmj14L8"
      },
      "execution_count": null,
      "outputs": []
    },
    {
      "cell_type": "code",
      "source": [
        "def main():\n",
        "   ch=int(input('Enter 1-length , 2=max of 3 strings,3=to print , 4=number of words='))\n",
        "   if ch==1:\n",
        "       n=input('Enter a string:') \n",
        "       l=len(n) \n",
        "       print('The length of the string is=',l) \n",
        "   elif ch==2: \n",
        "     n1=input('Enter string 1=') \n",
        "     n2=input('Enter string 2=') \n",
        "     n3=input('Enter string 3=') \n",
        "     print('The maximum of the 3 strings is=',max(n1,n2,n3)) \n",
        "   elif ch==3: \n",
        "       a=input('Enter a string:') \n",
        "       s='' \n",
        "       a=list(a) \n",
        "       for i in range(len(a)): \n",
        "           if (i%2!=0): \n",
        "             if a[i]==' ': \n",
        "               a[i]=' ' \n",
        "           else: a[i]='#' \n",
        "           for e in a: \n",
        "               s=s+e \n",
        "           print('the new string=',s) \n",
        "    elif ch == 4: \n",
        "         b=input('Enter a string=') \n",
        "         c=0 \n",
        "         for ch in b: \n",
        "             if ch==' ': \n",
        "               c+=1 \n",
        "         a=c+1 \n",
        "         print('The number of words:',a) \n",
        "    else: \n",
        "        print('invalid choice') \n",
        "if __name__=='__main__': \n",
        "   main()\n"
      ],
      "metadata": {
        "colab": {
          "base_uri": "https://localhost:8080/",
          "height": 132
        },
        "id": "OHUmKGEZ0V75",
        "outputId": "8bb7dd8b-0afd-415b-d612-7f2749eb6240"
      },
      "execution_count": null,
      "outputs": [
        {
          "output_type": "error",
          "ename": "IndentationError",
          "evalue": "ignored",
          "traceback": [
            "\u001b[0;36m  File \u001b[0;32m\"<ipython-input-25-c65925d73923>\"\u001b[0;36m, line \u001b[0;32m24\u001b[0m\n\u001b[0;31m    elif ch == 4:\u001b[0m\n\u001b[0m                  ^\u001b[0m\n\u001b[0;31mIndentationError\u001b[0m\u001b[0;31m:\u001b[0m unindent does not match any outer indentation level\n"
          ]
        }
      ]
    }
  ]
}