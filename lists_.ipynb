{
  "nbformat": 4,
  "nbformat_minor": 0,
  "metadata": {
    "colab": {
      "name": "lists .ipynb",
      "provenance": [],
      "authorship_tag": "ABX9TyOP+i6ivQ8ttFzPIqzoNjks",
      "include_colab_link": true
    },
    "kernelspec": {
      "name": "python3",
      "display_name": "Python 3"
    },
    "language_info": {
      "name": "python"
    }
  },
  "cells": [
    {
      "cell_type": "markdown",
      "metadata": {
        "id": "view-in-github",
        "colab_type": "text"
      },
      "source": [
        "<a href=\"https://colab.research.google.com/github/Arifbinmushtaq/Arifbinmushtaq/blob/main/lists_.ipynb\" target=\"_parent\"><img src=\"https://colab.research.google.com/assets/colab-badge.svg\" alt=\"Open In Colab\"/></a>"
      ]
    },
    {
      "cell_type": "code",
      "execution_count": null,
      "metadata": {
        "colab": {
          "base_uri": "https://localhost:8080/"
        },
        "id": "q0D03mtvTFYT",
        "outputId": "cd537e13-7dde-4999-ff57-6ab00fab4d2f"
      },
      "outputs": [
        {
          "output_type": "stream",
          "name": "stdout",
          "text": [
            "['hindi', 'english', 'maths', 'history']\n"
          ]
        }
      ],
      "source": [
        "list1 = ['hindi','english','maths','history']\n",
        "print(list1)"
      ]
    },
    {
      "cell_type": "code",
      "source": [
        "list_of_integers = [1,2,3,33,8]\n",
        "list_of_animals = ['dog','cat','goat']\n",
        "list_of_floating_numbers = [2.2,4.5,7.9,2.9]\n",
        "print(list_of_integers)\n",
        "print(list_of_animals)\n",
        "print(list_of_floating_numbers)"
      ],
      "metadata": {
        "colab": {
          "base_uri": "https://localhost:8080/"
        },
        "id": "qGpYz9XCTZXI",
        "outputId": "f7395ab8-9607-447e-a063-da797c2797cb"
      },
      "execution_count": null,
      "outputs": [
        {
          "output_type": "stream",
          "name": "stdout",
          "text": [
            "[1, 2, 3, 33, 8]\n",
            "['dog', 'cat', 'goat']\n",
            "[2.2, 4.5, 7.9, 2.9]\n"
          ]
        }
      ]
    },
    {
      "cell_type": "code",
      "source": [
        "list = [3,22,30,5.3,20]\n",
        "print(list[0])\n",
        "print(list[1])\n",
        "print(list[2])\n",
        "print(list[3])\n",
        "print(list[:3])\n",
        "print(list[3:])"
      ],
      "metadata": {
        "colab": {
          "base_uri": "https://localhost:8080/"
        },
        "id": "w3ZhXrPF9x-t",
        "outputId": "bdde8f7d-e909-4459-d696-b16a893d3ed9"
      },
      "execution_count": null,
      "outputs": [
        {
          "output_type": "stream",
          "name": "stdout",
          "text": [
            "3\n",
            "22\n",
            "30\n",
            "5.3\n",
            "[3, 22, 30]\n",
            "[5.3, 20]\n"
          ]
        }
      ]
    },
    {
      "cell_type": "code",
      "source": [
        "print(list[-1])\n",
        "print(list[-2])"
      ],
      "metadata": {
        "colab": {
          "base_uri": "https://localhost:8080/"
        },
        "id": "PF2KTWNh_qkR",
        "outputId": "67ef3cb5-a3f0-440f-c487-1f8f87cd032f"
      },
      "execution_count": null,
      "outputs": [
        {
          "output_type": "stream",
          "name": "stdout",
          "text": [
            "20\n",
            "5.3\n"
          ]
        }
      ]
    },
    {
      "cell_type": "code",
      "source": [
        "#python list silicing\n",
        "list = [3,22,30,5.3,20]\n",
        "list[:]\n"
      ],
      "metadata": {
        "colab": {
          "base_uri": "https://localhost:8080/"
        },
        "id": "_QE38uVo_-dJ",
        "outputId": "64767654-da00-411f-a971-b3fec73ae6e2"
      },
      "execution_count": null,
      "outputs": [
        {
          "output_type": "execute_result",
          "data": {
            "text/plain": [
              "[3, 22, 30, 5.3, 20]"
            ]
          },
          "metadata": {},
          "execution_count": 10
        }
      ]
    },
    {
      "cell_type": "code",
      "source": [
        "list[1:3]"
      ],
      "metadata": {
        "colab": {
          "base_uri": "https://localhost:8080/"
        },
        "id": "V4lm3BEyAMyj",
        "outputId": "12173cb7-e9db-4f86-9534-3b03e38a1261"
      },
      "execution_count": null,
      "outputs": [
        {
          "output_type": "execute_result",
          "data": {
            "text/plain": [
              "[22, 30]"
            ]
          },
          "metadata": {},
          "execution_count": 12
        }
      ]
    },
    {
      "cell_type": "code",
      "source": [
        "list[:4]"
      ],
      "metadata": {
        "colab": {
          "base_uri": "https://localhost:8080/"
        },
        "id": "4X86hxU0AhQs",
        "outputId": "754c9d68-f895-4f62-a376-a8222ea11bb5"
      },
      "execution_count": null,
      "outputs": [
        {
          "output_type": "execute_result",
          "data": {
            "text/plain": [
              "[3, 22, 30, 5.3]"
            ]
          },
          "metadata": {},
          "execution_count": 13
        }
      ]
    },
    {
      "cell_type": "code",
      "source": [
        "list = [2,5,9,20,27]\n",
        "list[-1]=30.5\n",
        "print(list)"
      ],
      "metadata": {
        "colab": {
          "base_uri": "https://localhost:8080/"
        },
        "id": "hNrr3Rs6A1kB",
        "outputId": "fcc5c284-340e-44af-94ff-d4916470c9d4"
      },
      "execution_count": null,
      "outputs": [
        {
          "output_type": "stream",
          "name": "stdout",
          "text": [
            "[2, 5, 9, 20, 30.5]\n"
          ]
        }
      ]
    },
    {
      "cell_type": "code",
      "source": [
        "#operations in list\n",
        "list1 = ['red','green']\n",
        "list2 = [ 10,20,30]\n",
        "print(list2*2)"
      ],
      "metadata": {
        "colab": {
          "base_uri": "https://localhost:8080/"
        },
        "id": "125E8DaCbbiF",
        "outputId": "a2876f9b-931f-4f36-98e7-e2df68de6b32"
      },
      "execution_count": null,
      "outputs": [
        {
          "output_type": "stream",
          "name": "stdout",
          "text": [
            "[10, 20, 30, 10, 20, 30]\n"
          ]
        }
      ]
    },
    {
      "cell_type": "code",
      "source": [
        "list1 = list1 + ['blue']\n",
        "list1"
      ],
      "metadata": {
        "colab": {
          "base_uri": "https://localhost:8080/"
        },
        "id": "XyDqrIXzby3C",
        "outputId": "5554295e-d633-4715-e04f-a338180cc16d"
      },
      "execution_count": null,
      "outputs": [
        {
          "output_type": "execute_result",
          "data": {
            "text/plain": [
              "['red', 'green', 'blue', 'blue']"
            ]
          },
          "metadata": {},
          "execution_count": 10
        }
      ]
    },
    {
      "cell_type": "code",
      "source": [
        "len(list1)"
      ],
      "metadata": {
        "colab": {
          "base_uri": "https://localhost:8080/"
        },
        "id": "_QOGJIp7cC3f",
        "outputId": "a01c07be-3940-4996-e37c-0e825b7e7588"
      },
      "execution_count": null,
      "outputs": [
        {
          "output_type": "execute_result",
          "data": {
            "text/plain": [
              "4"
            ]
          },
          "metadata": {},
          "execution_count": 11
        }
      ]
    },
    {
      "cell_type": "code",
      "source": [
        "list2[-1]"
      ],
      "metadata": {
        "colab": {
          "base_uri": "https://localhost:8080/"
        },
        "id": "YUee-qkncQtf",
        "outputId": "18802e81-fde9-474e-9c1f-253e937abd31"
      },
      "execution_count": null,
      "outputs": [
        {
          "output_type": "execute_result",
          "data": {
            "text/plain": [
              "30"
            ]
          },
          "metadata": {},
          "execution_count": 12
        }
      ]
    },
    {
      "cell_type": "code",
      "source": [
        "list2[0:2]\n"
      ],
      "metadata": {
        "colab": {
          "base_uri": "https://localhost:8080/"
        },
        "id": "TV525a8fcUK3",
        "outputId": "1e3b4f10-4081-4e0a-b2c7-b3e0abed8f66"
      },
      "execution_count": null,
      "outputs": [
        {
          "output_type": "execute_result",
          "data": {
            "text/plain": [
              "[10, 20]"
            ]
          },
          "metadata": {},
          "execution_count": 13
        }
      ]
    },
    {
      "cell_type": "code",
      "source": [
        "list2[0:3:2]"
      ],
      "metadata": {
        "colab": {
          "base_uri": "https://localhost:8080/"
        },
        "id": "mmX9ISBUcdFm",
        "outputId": "979f42db-63bf-4ae9-9188-d47961d76cf1"
      },
      "execution_count": null,
      "outputs": [
        {
          "output_type": "execute_result",
          "data": {
            "text/plain": [
              "[10, 30]"
            ]
          },
          "metadata": {},
          "execution_count": 14
        }
      ]
    },
    {
      "cell_type": "code",
      "source": [
        "min(list2)"
      ],
      "metadata": {
        "colab": {
          "base_uri": "https://localhost:8080/"
        },
        "id": "3mmRNFnVcrKT",
        "outputId": "1af32da1-2396-49fa-fe44-00ad2a73c7b3"
      },
      "execution_count": null,
      "outputs": [
        {
          "output_type": "execute_result",
          "data": {
            "text/plain": [
              "10"
            ]
          },
          "metadata": {},
          "execution_count": 16
        }
      ]
    },
    {
      "cell_type": "code",
      "source": [
        "max(list1)"
      ],
      "metadata": {
        "colab": {
          "base_uri": "https://localhost:8080/",
          "height": 35
        },
        "id": "Cp1MqjvFcwgE",
        "outputId": "771b20f7-e455-4aaf-c6b8-d689bd4cb6fd"
      },
      "execution_count": null,
      "outputs": [
        {
          "output_type": "execute_result",
          "data": {
            "application/vnd.google.colaboratory.intrinsic+json": {
              "type": "string"
            },
            "text/plain": [
              "'red'"
            ]
          },
          "metadata": {},
          "execution_count": 17
        }
      ]
    },
    {
      "cell_type": "code",
      "source": [
        "sum(list2)"
      ],
      "metadata": {
        "colab": {
          "base_uri": "https://localhost:8080/"
        },
        "id": "1u9N6r-hczcj",
        "outputId": "f8b81219-a4d5-4515-df7a-a87586519a01"
      },
      "execution_count": null,
      "outputs": [
        {
          "output_type": "execute_result",
          "data": {
            "text/plain": [
              "60"
            ]
          },
          "metadata": {},
          "execution_count": 18
        }
      ]
    },
    {
      "cell_type": "code",
      "source": [
        "40 in list2"
      ],
      "metadata": {
        "colab": {
          "base_uri": "https://localhost:8080/"
        },
        "id": "b6-Pz30yc3hB",
        "outputId": "cceff727-70a7-40ff-f86d-c75c5c368566"
      },
      "execution_count": null,
      "outputs": [
        {
          "output_type": "execute_result",
          "data": {
            "text/plain": [
              "False"
            ]
          },
          "metadata": {},
          "execution_count": 20
        }
      ]
    },
    {
      "cell_type": "code",
      "source": [
        "marksheet = [70,32,89,99,56] \n",
        "for marks in marksheet:\n",
        "  if marks >=75:\n",
        "    count+=1\n",
        "    print(count)"
      ],
      "metadata": {
        "colab": {
          "base_uri": "https://localhost:8080/"
        },
        "id": "tksbHZUjdSe9",
        "outputId": "53f998e2-73fa-49cb-da45-f54ce1bf9123"
      },
      "execution_count": null,
      "outputs": [
        {
          "output_type": "stream",
          "name": "stdout",
          "text": [
            "3\n",
            "4\n"
          ]
        }
      ]
    },
    {
      "cell_type": "code",
      "source": [
        "students = [\"ram\",'shyam',\"gita\",\"sita\"]\n",
        "for name in students:\n",
        "  print(name)"
      ],
      "metadata": {
        "colab": {
          "base_uri": "https://localhost:8080/"
        },
        "id": "nSk8wB1dePXu",
        "outputId": "859b7cbf-8905-4865-fe06-aa993ab116e9"
      },
      "execution_count": null,
      "outputs": [
        {
          "output_type": "stream",
          "name": "stdout",
          "text": [
            "ram\n",
            "shyam\n",
            "gita\n",
            "sita\n"
          ]
        }
      ]
    },
    {
      "cell_type": "code",
      "source": [
        "bikes=['trek','readline','gaint']\n",
        "print(bikes[0])\n"
      ],
      "metadata": {
        "id": "yvpEXYk8frM-",
        "colab": {
          "base_uri": "https://localhost:8080/"
        },
        "outputId": "a78db8ed-f1d0-44fe-e42a-09c02c4a50d8"
      },
      "execution_count": 2,
      "outputs": [
        {
          "output_type": "stream",
          "name": "stdout",
          "text": [
            "trek\n"
          ]
        }
      ]
    },
    {
      "cell_type": "code",
      "source": [
        "print(first_bike)\n"
      ],
      "metadata": {
        "colab": {
          "base_uri": "https://localhost:8080/"
        },
        "id": "1RYShMc5NePv",
        "outputId": "3e802acc-84a3-4525-e8ca-517fe0b54f55"
      },
      "execution_count": 10,
      "outputs": [
        {
          "output_type": "stream",
          "name": "stdout",
          "text": [
            "trek\n"
          ]
        }
      ]
    },
    {
      "cell_type": "code",
      "source": [
        "bikes=['trek','readline','gaint']\n",
        "print(bikes[-1])"
      ],
      "metadata": {
        "colab": {
          "base_uri": "https://localhost:8080/"
        },
        "id": "wD03IJzEOH5u",
        "outputId": "f24f5969-69a3-4b2b-e660-892615f05c4d"
      },
      "execution_count": 11,
      "outputs": [
        {
          "output_type": "stream",
          "name": "stdout",
          "text": [
            "gaint\n"
          ]
        }
      ]
    },
    {
      "cell_type": "code",
      "source": [
        "for bike in bikes:\n",
        "  print(bike)"
      ],
      "metadata": {
        "colab": {
          "base_uri": "https://localhost:8080/"
        },
        "id": "6R6odaKNOvq4",
        "outputId": "b214035b-2fa1-45b6-b48f-6927031945db"
      },
      "execution_count": 16,
      "outputs": [
        {
          "output_type": "stream",
          "name": "stdout",
          "text": [
            "trek\n",
            "readline\n",
            "gaint\n"
          ]
        }
      ]
    },
    {
      "cell_type": "code",
      "source": [
        "bikes=[]\n",
        "bikes.append('trek')\n",
        "bikes.append('readline')\n",
        "bikes.append('gaint')\n",
        "print(bikes)"
      ],
      "metadata": {
        "colab": {
          "base_uri": "https://localhost:8080/"
        },
        "id": "DKiHaPkSO9Cu",
        "outputId": "b2814491-a46f-4b44-af9b-c671bcbfbc41"
      },
      "execution_count": 18,
      "outputs": [
        {
          "output_type": "stream",
          "name": "stdout",
          "text": [
            "['trek', 'readline', 'gaint']\n"
          ]
        }
      ]
    },
    {
      "cell_type": "code",
      "source": [
        ""
      ],
      "metadata": {
        "id": "eJHth6WbS5P1"
      },
      "execution_count": null,
      "outputs": []
    }
  ]
}