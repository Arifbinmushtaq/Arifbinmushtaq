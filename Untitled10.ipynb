{
  "nbformat": 4,
  "nbformat_minor": 0,
  "metadata": {
    "colab": {
      "name": "Untitled10.ipynb",
      "provenance": [],
      "authorship_tag": "ABX9TyPNnV0bzylurXTIsO8gXwKI",
      "include_colab_link": true
    },
    "kernelspec": {
      "name": "python3",
      "display_name": "Python 3"
    },
    "language_info": {
      "name": "python"
    }
  },
  "cells": [
    {
      "cell_type": "markdown",
      "metadata": {
        "id": "view-in-github",
        "colab_type": "text"
      },
      "source": [
        "<a href=\"https://colab.research.google.com/github/Arifbinmushtaq/Arifbinmushtaq/blob/main/Untitled10.ipynb\" target=\"_parent\"><img src=\"https://colab.research.google.com/assets/colab-badge.svg\" alt=\"Open In Colab\"/></a>"
      ]
    },
    {
      "cell_type": "code",
      "execution_count": null,
      "metadata": {
        "id": "Re0cwVc4FxE_",
        "colab": {
          "base_uri": "https://localhost:8080/"
        },
        "outputId": "89148c1b-dd0d-41d0-f7b6-f025d5c2529f"
      },
      "outputs": [
        {
          "output_type": "stream",
          "name": "stdout",
          "text": [
            "Enter the no. of rows: 3\n",
            "  1  1 2 1 1 2 3 2 1 \n",
            " 1 2 1   1 \n"
          ]
        }
      ],
      "source": [
        " n = int(input(\"Enter the no. of rows: \"))\n",
        " for i in range(1, n+1): \n",
        "     for j in range(1, n-i+1):\n",
        "         print(end=\" \")\n",
        "     for j in range (1, i+ 1):\n",
        "         print(j, end=\" \") \n",
        "     for j in range (i-1, 0, -1): \n",
        "         print(j, end=\" \")\n",
        "print()\n",
        "for i in range (1,n):\n",
        "   for j in range(1, i+1):\n",
        "       print(end=\" \") \n",
        "   for j in range (1, n-i):\n",
        "       print(j, end=\" \") \n",
        "   for j in range (n-i, 0, -1):\n",
        "       print(j, end=\" \") \n",
        "print() "
      ]
    }
  ]
}