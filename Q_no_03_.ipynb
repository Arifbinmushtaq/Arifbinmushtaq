{
  "nbformat": 4,
  "nbformat_minor": 0,
  "metadata": {
    "colab": {
      "name": "Q.no:03 .ipynb",
      "provenance": [],
      "authorship_tag": "ABX9TyPdCQKAeS/SstfWj7dJ4M78",
      "include_colab_link": true
    },
    "kernelspec": {
      "name": "python3",
      "display_name": "Python 3"
    },
    "language_info": {
      "name": "python"
    }
  },
  "cells": [
    {
      "cell_type": "markdown",
      "metadata": {
        "id": "view-in-github",
        "colab_type": "text"
      },
      "source": [
        "<a href=\"https://colab.research.google.com/github/Arifbinmushtaq/Arifbinmushtaq/blob/main/Q_no_03_.ipynb\" target=\"_parent\"><img src=\"https://colab.research.google.com/assets/colab-badge.svg\" alt=\"Open In Colab\"/></a>"
      ]
    },
    {
      "cell_type": "code",
      "execution_count": 2,
      "metadata": {
        "id": "vvBFRLFP7kO5",
        "colab": {
          "base_uri": "https://localhost:8080/"
        },
        "outputId": "e994766b-9f13-4f32-eed0-25b67ff17eed"
      },
      "outputs": [
        {
          "output_type": "execute_result",
          "data": {
            "text/plain": [
              "1.5707963267948966"
            ]
          },
          "metadata": {},
          "execution_count": 2
        }
      ],
      "source": [
        "import math \n",
        "math.ceil(6.2)\n",
        "math.factorial(5)\n",
        "math.floor(8.9)\n",
        "math.exp(10)\n",
        "math.pow(5,3)\n",
        "math.log10(10)\n",
        "math.sqrt(4456)\n",
        "math.cos(30)\n",
        "math.degrees(60)\n",
        "math.radians(90)"
      ]
    },
    {
      "cell_type": "code",
      "source": [
        ""
      ],
      "metadata": {
        "id": "S-wFeQfYZrWr"
      },
      "execution_count": null,
      "outputs": []
    }
  ]
}