{
  "nbformat": 4,
  "nbformat_minor": 0,
  "metadata": {
    "colab": {
      "name": "built-in functions ",
      "provenance": [],
      "authorship_tag": "ABX9TyOXy4GbPvwuijemCDi0mqlp",
      "include_colab_link": true
    },
    "kernelspec": {
      "name": "python3",
      "display_name": "Python 3"
    },
    "language_info": {
      "name": "python"
    }
  },
  "cells": [
    {
      "cell_type": "markdown",
      "metadata": {
        "id": "view-in-github",
        "colab_type": "text"
      },
      "source": [
        "<a href=\"https://colab.research.google.com/github/Arifbinmushtaq/Arifbinmushtaq/blob/main/built_in_functions.ipynb\" target=\"_parent\"><img src=\"https://colab.research.google.com/assets/colab-badge.svg\" alt=\"Open In Colab\"/></a>"
      ]
    },
    {
      "cell_type": "code",
      "execution_count": 1,
      "metadata": {
        "colab": {
          "base_uri": "https://localhost:8080/"
        },
        "id": "lB_thFmyzIDl",
        "outputId": "e256871b-9308-465e-d4e0-baccdfb3203c"
      },
      "outputs": [
        {
          "output_type": "stream",
          "name": "stdout",
          "text": [
            "Enter a name arif\n",
            "arif\n"
          ]
        }
      ],
      "source": [
        "#input()\n",
        "name = input('Enter a name ')\n",
        "print(name)"
      ]
    },
    {
      "cell_type": "code",
      "source": [
        "food = input('What is your favourite food?')\n",
        "print(food)"
      ],
      "metadata": {
        "colab": {
          "base_uri": "https://localhost:8080/"
        },
        "id": "WB3kNdAYzztQ",
        "outputId": "2c43eda9-49ba-4f6c-fb10-dd242c33642f"
      },
      "execution_count": 2,
      "outputs": [
        {
          "output_type": "stream",
          "name": "stdout",
          "text": [
            "What is your favourite food?pizza,cheese,chicken\n",
            "pizza,cheese,chicken\n"
          ]
        }
      ]
    },
    {
      "cell_type": "code",
      "source": [
        "print(\"your favourite food is\", food)"
      ],
      "metadata": {
        "colab": {
          "base_uri": "https://localhost:8080/"
        },
        "id": "amPjXGp20FSQ",
        "outputId": "e2664190-77d5-4cca-c102-6437d4a36926"
      },
      "execution_count": 3,
      "outputs": [
        {
          "output_type": "stream",
          "name": "stdout",
          "text": [
            "your favourite food is pizza,cheese,chicken\n"
          ]
        }
      ]
    },
    {
      "cell_type": "code",
      "source": [
        "mobile = input('Enter your mobile number')\n",
        "print(mobile)"
      ],
      "metadata": {
        "colab": {
          "base_uri": "https://localhost:8080/"
        },
        "id": "HwmjASSz0QE8",
        "outputId": "18ce6004-4edb-48f8-db9e-1f490c425781"
      },
      "execution_count": 5,
      "outputs": [
        {
          "output_type": "stream",
          "name": "stdout",
          "text": [
            "Enter your mobile number9862656981\n",
            "9862656981\n"
          ]
        }
      ]
    },
    {
      "cell_type": "code",
      "source": [
        "print(\"your mobile number is\",mobile)"
      ],
      "metadata": {
        "colab": {
          "base_uri": "https://localhost:8080/"
        },
        "id": "mQE4N8ho0cbr",
        "outputId": "5935c05a-4813-467c-9dda-f2ba9d66a12a"
      },
      "execution_count": 6,
      "outputs": [
        {
          "output_type": "stream",
          "name": "stdout",
          "text": [
            "your mobile number is 9862656981\n"
          ]
        }
      ]
    },
    {
      "cell_type": "code",
      "source": [
        ""
      ],
      "metadata": {
        "id": "DLM3T9S80kxM"
      },
      "execution_count": null,
      "outputs": []
    }
  ]
}