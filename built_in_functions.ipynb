{
  "nbformat": 4,
  "nbformat_minor": 0,
  "metadata": {
    "colab": {
      "name": "built-in functions ",
      "provenance": [],
      "authorship_tag": "ABX9TyOPGyGVBSD3yLWnCSw57u8r",
      "include_colab_link": true
    },
    "kernelspec": {
      "name": "python3",
      "display_name": "Python 3"
    },
    "language_info": {
      "name": "python"
    }
  },
  "cells": [
    {
      "cell_type": "markdown",
      "metadata": {
        "id": "view-in-github",
        "colab_type": "text"
      },
      "source": [
        "<a href=\"https://colab.research.google.com/github/Arifbinmushtaq/Arifbinmushtaq/blob/main/built_in_functions.ipynb\" target=\"_parent\"><img src=\"https://colab.research.google.com/assets/colab-badge.svg\" alt=\"Open In Colab\"/></a>"
      ]
    },
    {
      "cell_type": "code",
      "execution_count": 1,
      "metadata": {
        "colab": {
          "base_uri": "https://localhost:8080/"
        },
        "id": "lB_thFmyzIDl",
        "outputId": "e256871b-9308-465e-d4e0-baccdfb3203c"
      },
      "outputs": [
        {
          "output_type": "stream",
          "name": "stdout",
          "text": [
            "Enter a name arif\n",
            "arif\n"
          ]
        }
      ],
      "source": [
        "#input()\n",
        "name = input('Enter a name ')\n",
        "print(name)"
      ]
    },
    {
      "cell_type": "code",
      "source": [
        "food = input('What is your favourite food?')\n",
        "print(food)"
      ],
      "metadata": {
        "colab": {
          "base_uri": "https://localhost:8080/"
        },
        "id": "WB3kNdAYzztQ",
        "outputId": "2c43eda9-49ba-4f6c-fb10-dd242c33642f"
      },
      "execution_count": 2,
      "outputs": [
        {
          "output_type": "stream",
          "name": "stdout",
          "text": [
            "What is your favourite food?pizza,cheese,chicken\n",
            "pizza,cheese,chicken\n"
          ]
        }
      ]
    },
    {
      "cell_type": "code",
      "source": [
        "print(\"your favourite food is\", food)"
      ],
      "metadata": {
        "colab": {
          "base_uri": "https://localhost:8080/"
        },
        "id": "amPjXGp20FSQ",
        "outputId": "e2664190-77d5-4cca-c102-6437d4a36926"
      },
      "execution_count": 3,
      "outputs": [
        {
          "output_type": "stream",
          "name": "stdout",
          "text": [
            "your favourite food is pizza,cheese,chicken\n"
          ]
        }
      ]
    },
    {
      "cell_type": "code",
      "source": [
        "mobile = input('Enter your mobile number')\n",
        "print(mobile)"
      ],
      "metadata": {
        "colab": {
          "base_uri": "https://localhost:8080/"
        },
        "id": "HwmjASSz0QE8",
        "outputId": "18ce6004-4edb-48f8-db9e-1f490c425781"
      },
      "execution_count": 5,
      "outputs": [
        {
          "output_type": "stream",
          "name": "stdout",
          "text": [
            "Enter your mobile number9862656981\n",
            "9862656981\n"
          ]
        }
      ]
    },
    {
      "cell_type": "code",
      "source": [
        "print(\"your mobile number is\",mobile)"
      ],
      "metadata": {
        "colab": {
          "base_uri": "https://localhost:8080/"
        },
        "id": "mQE4N8ho0cbr",
        "outputId": "5935c05a-4813-467c-9dda-f2ba9d66a12a"
      },
      "execution_count": 6,
      "outputs": [
        {
          "output_type": "stream",
          "name": "stdout",
          "text": [
            "your mobile number is 9862656981\n"
          ]
        }
      ]
    },
    {
      "cell_type": "code",
      "source": [
        "a = input ('Enter a first number')\n",
        "b = input ( 'Enter a second number')\n",
        "c = a + b \n",
        "print(c)"
      ],
      "metadata": {
        "colab": {
          "base_uri": "https://localhost:8080/"
        },
        "id": "DLM3T9S80kxM",
        "outputId": "78e3a34b-e78c-4128-abb0-c9b03d3f48cc"
      },
      "execution_count": 7,
      "outputs": [
        {
          "output_type": "stream",
          "name": "stdout",
          "text": [
            "Enter a first number23\n",
            "Enter a second number12\n",
            "2312\n"
          ]
        }
      ]
    },
    {
      "cell_type": "code",
      "source": [
        "type(c)"
      ],
      "metadata": {
        "colab": {
          "base_uri": "https://localhost:8080/"
        },
        "id": "Ohw2LYvG4etl",
        "outputId": "4c93ad3e-9343-40da-a128-851fe4ac59a2"
      },
      "execution_count": 8,
      "outputs": [
        {
          "output_type": "execute_result",
          "data": {
            "text/plain": [
              "str"
            ]
          },
          "metadata": {},
          "execution_count": 8
        }
      ]
    },
    {
      "cell_type": "code",
      "source": [
        "a = input('Enter first number?')\n",
        "x = int(a)\n",
        "b = input('Enter second number ?')\n",
        "y=int(b)\n",
        "c = x  + y\n",
        "print(c)"
      ],
      "metadata": {
        "colab": {
          "base_uri": "https://localhost:8080/"
        },
        "id": "LLH71qv_5DwA",
        "outputId": "540d5aab-8309-47ad-c042-c3ea4a703c51"
      },
      "execution_count": 11,
      "outputs": [
        {
          "output_type": "stream",
          "name": "stdout",
          "text": [
            "Enter first number?12\n",
            "Enter second number ?1\n",
            "13\n"
          ]
        }
      ]
    },
    {
      "cell_type": "code",
      "source": [
        "\n",
        "type(c)"
      ],
      "metadata": {
        "colab": {
          "base_uri": "https://localhost:8080/"
        },
        "id": "X7LnKqFJ5WMS",
        "outputId": "c42acbfa-a03d-4323-a4d4-cf75cffba9d3"
      },
      "execution_count": 12,
      "outputs": [
        {
          "output_type": "execute_result",
          "data": {
            "text/plain": [
              "int"
            ]
          },
          "metadata": {},
          "execution_count": 12
        }
      ]
    },
    {
      "cell_type": "code",
      "source": [
        "ch = input ('Enter a char')[0]\n",
        "print(ch)"
      ],
      "metadata": {
        "colab": {
          "base_uri": "https://localhost:8080/"
        },
        "id": "TWtIG6Gh5ZVV",
        "outputId": "dd5f6c06-3db0-45b8-d35d-456b59135010"
      },
      "execution_count": 21,
      "outputs": [
        {
          "output_type": "stream",
          "name": "stdout",
          "text": [
            "Enter a chararif\n",
            "a\n"
          ]
        }
      ]
    },
    {
      "cell_type": "code",
      "source": [
        "#eval function\n",
        "eval('14')"
      ],
      "metadata": {
        "colab": {
          "base_uri": "https://localhost:8080/"
        },
        "id": "eSy3_mOH5the",
        "outputId": "0a0186cc-4526-4104-b728-53b6753745f6"
      },
      "execution_count": 2,
      "outputs": [
        {
          "output_type": "execute_result",
          "data": {
            "text/plain": [
              "14"
            ]
          },
          "metadata": {},
          "execution_count": 2
        }
      ]
    },
    {
      "cell_type": "code",
      "source": [
        "number = 9 \n",
        "square_number = eval('number*number')\n",
        "print(square_number)"
      ],
      "metadata": {
        "colab": {
          "base_uri": "https://localhost:8080/"
        },
        "id": "T91_vlF9MOcE",
        "outputId": "172beba2-d4cb-4e29-e372-7d2cd5a46f12"
      },
      "execution_count": 4,
      "outputs": [
        {
          "output_type": "stream",
          "name": "stdout",
          "text": [
            "81\n"
          ]
        }
      ]
    },
    {
      "cell_type": "code",
      "source": [
        "x = 1\n",
        "print(eval('x+1'))"
      ],
      "metadata": {
        "colab": {
          "base_uri": "https://localhost:8080/"
        },
        "id": "iKF4O3x2LvfL",
        "outputId": "854e27d9-734f-41c4-ecfe-e655b406fe8d"
      },
      "execution_count": 5,
      "outputs": [
        {
          "output_type": "stream",
          "name": "stdout",
          "text": [
            "2\n"
          ]
        }
      ]
    },
    {
      "cell_type": "code",
      "source": [
        "#perimeter of a square\n",
        "#area of a square\n",
        "expression = input(\"Type of function\")\n",
        "for l in range(1,5):\n",
        "    if (expression == 'calculatePerimeter(l)'):\n",
        "      print(\"if length is\", l ,\",perimeter = \",eval (expression))\n",
        "    elif (expression == 'calculateArea(l)'):\n",
        "      print(\"if length is\", l ,\", Area = \",eval(expression)) \n",
        "    else:\n",
        "      print(\"wrong Function\")\n",
        "      break"
      ],
      "metadata": {
        "colab": {
          "base_uri": "https://localhost:8080/"
        },
        "id": "V80iL6edM2NA",
        "outputId": "4b6b6066-50a7-4e62-8b9e-17a23c74c4a0"
      },
      "execution_count": 20,
      "outputs": [
        {
          "output_type": "stream",
          "name": "stdout",
          "text": [
            "Type of function calculateArea(l)\n",
            "wrong Function\n"
          ]
        }
      ]
    },
    {
      "cell_type": "code",
      "source": [
        "n1 = eval(input(\"Enter a number:\"))\n",
        "n1"
      ],
      "metadata": {
        "colab": {
          "base_uri": "https://localhost:8080/"
        },
        "id": "2JBBk5b_Oc4L",
        "outputId": "580d77b5-302e-4005-b292-71948b9cc383"
      },
      "execution_count": 22,
      "outputs": [
        {
          "name": "stdout",
          "output_type": "stream",
          "text": [
            "Enter a number:234\n"
          ]
        },
        {
          "output_type": "execute_result",
          "data": {
            "text/plain": [
              "234"
            ]
          },
          "metadata": {},
          "execution_count": 22
        }
      ]
    },
    {
      "cell_type": "code",
      "source": [
        "n2 = eval(input(\"Enter an arithmetic operation:\"))\n",
        "n2"
      ],
      "metadata": {
        "colab": {
          "base_uri": "https://localhost:8080/"
        },
        "id": "mGjUTjnqQxM2",
        "outputId": "4013fe14-1079-4b8e-bc8f-c0616ecb3f21"
      },
      "execution_count": 23,
      "outputs": [
        {
          "name": "stdout",
          "output_type": "stream",
          "text": [
            "Enter an arithmetic operation:12.0+13.5\n"
          ]
        },
        {
          "output_type": "execute_result",
          "data": {
            "text/plain": [
              "25.5"
            ]
          },
          "metadata": {},
          "execution_count": 23
        }
      ]
    },
    {
      "cell_type": "code",
      "source": [
        "print(n1+n2)"
      ],
      "metadata": {
        "colab": {
          "base_uri": "https://localhost:8080/"
        },
        "id": "clCNIdP1Q_S-",
        "outputId": "d1ad1a42-bd15-42d0-915e-810a3e36fad9"
      },
      "execution_count": 24,
      "outputs": [
        {
          "output_type": "stream",
          "name": "stdout",
          "text": [
            "259.5\n"
          ]
        }
      ]
    },
    {
      "cell_type": "code",
      "source": [
        "#python backslash \n",
        "print('hello,\\n world')"
      ],
      "metadata": {
        "colab": {
          "base_uri": "https://localhost:8080/"
        },
        "id": "GyIeCAbMRaJq",
        "outputId": "ce1e33ae-d208-4abf-8d7c-8b8db66d5030"
      },
      "execution_count": 25,
      "outputs": [
        {
          "output_type": "stream",
          "name": "stdout",
          "text": [
            "hello,\n",
            " world\n"
          ]
        }
      ]
    },
    {
      "cell_type": "code",
      "source": [
        "#round function\n",
        "print(round(89.625,2),round(89.635),round(89.635,0))\n"
      ],
      "metadata": {
        "colab": {
          "base_uri": "https://localhost:8080/"
        },
        "id": "n3z3yz78TITJ",
        "outputId": "3bf8044f-df43-4f9a-8e72-169e7a6360d9"
      },
      "execution_count": 28,
      "outputs": [
        {
          "output_type": "stream",
          "name": "stdout",
          "text": [
            "89.62 90 90.0\n"
          ]
        }
      ]
    },
    {
      "cell_type": "code",
      "source": [
        "costPrice = input('Enter cost price:')\n",
        "profit = input(\"Enter profit:\")\n",
        "sellingPrice = costPrice + profit\n",
        "print('selling Price ', sellingPrice)"
      ],
      "metadata": {
        "colab": {
          "base_uri": "https://localhost:8080/"
        },
        "id": "5YPLWZPvW8_F",
        "outputId": "03079645-eaee-486a-9a0a-b7e81c4a416d"
      },
      "execution_count": 33,
      "outputs": [
        {
          "output_type": "stream",
          "name": "stdout",
          "text": [
            "Enter cost price:1320\n",
            "Enter profit:100\n",
            "selling Price  1320100\n"
          ]
        }
      ]
    },
    {
      "cell_type": "code",
      "source": [
        "print(max(59,60,80,99,120))"
      ],
      "metadata": {
        "colab": {
          "base_uri": "https://localhost:8080/"
        },
        "id": "SPyn4k57XzTr",
        "outputId": "0010e520-2700-4518-ca1f-7bf5ba6adae9"
      },
      "execution_count": 34,
      "outputs": [
        {
          "output_type": "stream",
          "name": "stdout",
          "text": [
            "120\n"
          ]
        }
      ]
    },
    {
      "cell_type": "code",
      "source": [
        "print(min(58,11,10,29,101))"
      ],
      "metadata": {
        "colab": {
          "base_uri": "https://localhost:8080/"
        },
        "id": "jCz88klIdOxc",
        "outputId": "754b7f4e-5128-4941-cfba-e23c66eabce3"
      },
      "execution_count": 35,
      "outputs": [
        {
          "output_type": "stream",
          "name": "stdout",
          "text": [
            "10\n"
          ]
        }
      ]
    },
    {
      "cell_type": "code",
      "source": [
        "print(max('hello','you','are','how'))"
      ],
      "metadata": {
        "colab": {
          "base_uri": "https://localhost:8080/"
        },
        "id": "j-hAF0T4dXO6",
        "outputId": "74ec1145-ba62-46fd-a248-37d08a95d483"
      },
      "execution_count": 36,
      "outputs": [
        {
          "output_type": "stream",
          "name": "stdout",
          "text": [
            "you\n"
          ]
        }
      ]
    },
    {
      "cell_type": "code",
      "source": [
        "print(min('hello','how','are','you','sir'))"
      ],
      "metadata": {
        "colab": {
          "base_uri": "https://localhost:8080/"
        },
        "id": "ucykOigsdkZJ",
        "outputId": "0a1d168e-e383-4793-a7ac-bc9a0d302149"
      },
      "execution_count": 37,
      "outputs": [
        {
          "output_type": "stream",
          "name": "stdout",
          "text": [
            "are\n"
          ]
        }
      ]
    },
    {
      "cell_type": "code",
      "source": [
        "def main():\n",
        "    # to print a triangle\n",
        "    print('   *')\n",
        "    print('  ***')\n",
        "    print(' ******')\n",
        "    print('*********')\n"
      ],
      "metadata": {
        "id": "z2cByHMxdwl-"
      },
      "execution_count": 45,
      "outputs": []
    },
    {
      "cell_type": "code",
      "source": [
        ""
      ],
      "metadata": {
        "id": "xX_x5yA1fK6z"
      },
      "execution_count": null,
      "outputs": []
    },
    {
      "cell_type": "code",
      "source": [
        ""
      ],
      "metadata": {
        "id": "RF6tjyEoedqi"
      },
      "execution_count": 42,
      "outputs": []
    }
  ]
}