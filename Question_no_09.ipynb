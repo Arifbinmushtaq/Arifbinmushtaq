{
  "nbformat": 4,
  "nbformat_minor": 0,
  "metadata": {
    "colab": {
      "name": "Question no . 09.ipynb",
      "provenance": [],
      "authorship_tag": "ABX9TyNWAeaZRveLJmU2oCrG/z76",
      "include_colab_link": true
    },
    "kernelspec": {
      "name": "python3",
      "display_name": "Python 3"
    },
    "language_info": {
      "name": "python"
    }
  },
  "cells": [
    {
      "cell_type": "markdown",
      "metadata": {
        "id": "view-in-github",
        "colab_type": "text"
      },
      "source": [
        "<a href=\"https://colab.research.google.com/github/Arifbinmushtaq/Arifbinmushtaq/blob/main/Question_no_09.ipynb\" target=\"_parent\"><img src=\"https://colab.research.google.com/assets/colab-badge.svg\" alt=\"Open In Colab\"/></a>"
      ]
    },
    {
      "cell_type": "code",
      "execution_count": 2,
      "metadata": {
        "colab": {
          "base_uri": "https://localhost:8080/"
        },
        "id": "krosAGMXB8WY",
        "outputId": "1c424e0e-d2af-4575-8254-b43b08e84a94"
      },
      "outputs": [
        {
          "output_type": "stream",
          "name": "stdout",
          "text": [
            "[50, 14, 7, 10, 2]\n"
          ]
        }
      ],
      "source": [
        "values = [2,10,7,14,50]\n",
        "values.reverse()\n",
        "print(values)"
      ]
    },
    {
      "cell_type": "code",
      "source": [
        "sum_of_values = sum(values)\n",
        "print(sum_of_values)"
      ],
      "metadata": {
        "colab": {
          "base_uri": "https://localhost:8080/"
        },
        "id": "hFOYAM-QCTFF",
        "outputId": "d9461c28-e480-422d-9397-82aa306f0fc9"
      },
      "execution_count": 4,
      "outputs": [
        {
          "output_type": "stream",
          "name": "stdout",
          "text": [
            "83\n"
          ]
        }
      ]
    },
    {
      "cell_type": "code",
      "source": [
        ""
      ],
      "metadata": {
        "id": "bw4XX483Ccfs"
      },
      "execution_count": null,
      "outputs": []
    },
    {
      "cell_type": "code",
      "source": [
        ""
      ],
      "metadata": {
        "id": "ISEEhxMCCxCr"
      },
      "execution_count": null,
      "outputs": []
    }
  ]
}